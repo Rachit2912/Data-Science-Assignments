{
 "cells": [
  {
   "cell_type": "code",
   "execution_count": 36,
   "id": "fc9dbfdf-de04-4da8-94fe-9f81922d949f",
   "metadata": {},
   "outputs": [],
   "source": [
    "# question 1 :\n",
    "def product_of_all_nos(l):\n",
    "    nos = []\n",
    "    for i in l : \n",
    "        if type(i) == int or type(i) == float : \n",
    "            nos.append(i)\n",
    "        elif type(i) == list or type(i) == set or type(i) == tuple :\n",
    "            for j in i :\n",
    "                if type(j) == int or type(j) == float :\n",
    "                    nos.append(j)\n",
    "        elif type(i) == dict :\n",
    "            for j in i.values():\n",
    "                if type(j) == int or type(j) == float :\n",
    "                    nos.append(j)\n",
    "                elif type(j) == list or type(j) == set or type(j) == tuple :\n",
    "                    nos.append(product_of_all_nos([j]))\n",
    "                    \n",
    "    product = 1\n",
    "    for num in nos:\n",
    "        product *= num\n",
    "    return product\n"
   ]
  },
  {
   "cell_type": "code",
   "execution_count": 39,
   "id": "f68be22f-65f5-4b4f-9d7f-ee2136244ebc",
   "metadata": {},
   "outputs": [
    {
     "name": "stdout",
     "output_type": "stream",
     "text": [
      "ans : 1033677959746771369708460310528000\n"
     ]
    }
   ],
   "source": [
    "list1 = [1, 2, 3, 4, [44, 55, 66, True], False, (34, 56, 78, 89, 34), {1, 2, 3, 3, 2, 1}, {1: 34, \"key2\": [55, 67, 78, 89], 4: (45, 22, 61, 34)}, [56, 'data science'], 'Machine Learning']\n",
    "ans = product_of_all_nos(list1)\n",
    "print(\"ans :\",ans)"
   ]
  },
  {
   "cell_type": "code",
   "execution_count": 40,
   "id": "b9b00302-1932-4814-9828-afc648a4a439",
   "metadata": {},
   "outputs": [
    {
     "name": "stdout",
     "output_type": "stream",
     "text": [
      "Encrypted message: r$dzmg$gl$yvxlnv$z$wzgz$hxrvmgrhg.\n"
     ]
    }
   ],
   "source": [
    "# question 2 :\n",
    "def encrypt_message(message):\n",
    "    encrypted_message = ''\n",
    "    for char in message:\n",
    "        if char.isalpha():  \n",
    "            ascii_value = ord(char.lower()) \n",
    "            encrypted_ascii = ord('z') - (ascii_value - ord('a')) \n",
    "            encrypted_char = chr(encrypted_ascii) \n",
    "            encrypted_message += encrypted_char  \n",
    "        elif char == ' ':  \n",
    "            encrypted_message += '$'  \n",
    "        else:\n",
    "            encrypted_message += char  \n",
    "    return encrypted_message\n",
    "\n",
    "input_sentence = \"I want to become a Data Scientist.\"\n",
    "input_sentence_lower = input_sentence.lower()\n",
    "\n",
    "encrypted_sentence = encrypt_message(input_sentence_lower)\n",
    "print(\"Encrypted message:\", encrypted_sentence)\n"
   ]
  },
  {
   "cell_type": "code",
   "execution_count": null,
   "id": "8dceb0bb-9196-45c3-9e0a-b2fb23363887",
   "metadata": {},
   "outputs": [],
   "source": []
  }
 ],
 "metadata": {
  "kernelspec": {
   "display_name": "Python 3 (ipykernel)",
   "language": "python",
   "name": "python3"
  },
  "language_info": {
   "codemirror_mode": {
    "name": "ipython",
    "version": 3
   },
   "file_extension": ".py",
   "mimetype": "text/x-python",
   "name": "python",
   "nbconvert_exporter": "python",
   "pygments_lexer": "ipython3",
   "version": "3.10.8"
  }
 },
 "nbformat": 4,
 "nbformat_minor": 5
}
