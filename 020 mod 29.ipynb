{
 "cells": [
  {
   "cell_type": "code",
   "execution_count": null,
   "metadata": {},
   "outputs": [],
   "source": [
    "'''\n",
    "**Q1. What is Web Scraping? Why is it Used? Give three areas where Web Scraping is used to get data.**  \n",
    "Web scraping is the automated process of extracting data from websites. It is used to collect large volumes of data efficiently for analysis, research, or application use.\n",
    "\n",
    "**Areas where Web Scraping is used:**  \n",
    "1. **E-commerce**: Price comparison and product data collection.\n",
    "2. **Market Research**: Collecting public opinions and reviews.\n",
    "3. **News Aggregation**: Compiling articles from different sources.\n",
    "\n",
    "---\n",
    "\n",
    "**Q2. What are the different methods used for Web Scraping?**  \n",
    "1. **HTML Parsing**: Using libraries like Beautiful Soup to parse HTML content.\n",
    "2. **APIs**: Fetching structured data through public APIs.\n",
    "3. **Headless Browsers**: Automating browser actions (e.g., using Selenium).\n",
    "\n",
    "---\n",
    "\n",
    "**Q3. What is Beautiful Soup? Why is it used?**  \n",
    "Beautiful Soup is a Python library used for parsing HTML and XML documents. It is used to navigate, search, and modify HTML content, making it easier to extract data from web pages.\n",
    "\n",
    "---\n",
    "\n",
    "**Q4. Why is Flask used in this Web Scraping project?**  \n",
    "Flask is a lightweight web framework used to build web applications. In this project, it's used to create a web interface where users can input URLs and view scraped data.\n",
    "\n",
    "---\n",
    "\n",
    "**Q5. Write the names of AWS services used in this project. Also, explain the use of each service.**  \n",
    "1. **EC2**: Provides virtual servers to run the web scraping script.\n",
    "2. **S3**: Stores the scraped data or results in cloud storage.\n",
    "3. **Lambda**: Executes the scraping task on demand without managing servers.\n",
    "\n",
    "\n",
    "\n",
    "'''"
   ]
  }
 ],
 "metadata": {
  "language_info": {
   "name": "python"
  }
 },
 "nbformat": 4,
 "nbformat_minor": 2
}
