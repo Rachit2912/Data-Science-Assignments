{
 "cells": [
  {
   "cell_type": "code",
   "execution_count": null,
   "id": "661fcd01-9c2b-46e7-b08f-0d3dd8767dc6",
   "metadata": {},
   "outputs": [],
   "source": [
    "# 1 question \n",
    "p=int(input('percentage'))\n",
    "if p>90:\n",
    "    print('Grade A')\n",
    "elif 80<p<=90:\n",
    "    print('Grade B')\n",
    "elif 60<=p<=80:\n",
    "    print('Grade C')\n",
    "else:\n",
    "    print('Grade D')"
   ]
  },
  {
   "cell_type": "code",
   "execution_count": null,
   "id": "44d67202-a6da-4add-b21c-49c9a7735c81",
   "metadata": {},
   "outputs": [],
   "source": [
    "# 2 question\n",
    "cp=int(input('cost price:'))\n",
    "if cp>10000:\n",
    "    t=(15*cp)/100\n",
    "elif 50000<cp<=100000:\n",
    "    t=(10*cp)/100\n",
    "else:\n",
    "    t=(5*cp)/100\n",
    "print('tax is : Rs.',t)"
   ]
  },
  {
   "cell_type": "code",
   "execution_count": null,
   "id": "b9bfd0ce-ec16-4c2b-8a21-20318eee7e5a",
   "metadata": {},
   "outputs": [],
   "source": [
    "# 3 question\n",
    "c=input('city:')\n",
    "if c=='Delhi':\n",
    "    print('Red Fort')\n",
    "elif c=='Agra':\n",
    "    print('Taj Mahal')\n",
    "elif c=='Jaipur':\n",
    "    print('Jal Mahal')\n",
    "    "
   ]
  },
  {
   "cell_type": "code",
   "execution_count": null,
   "id": "d4394e9f-ba66-479e-b75b-c901f3a67c84",
   "metadata": {},
   "outputs": [],
   "source": [
    "# 4 question\n",
    "n=int(input('no'))            \n",
    "c=0\n",
    "while n>10:\n",
    "    n=n/3\n",
    "    c+=1\n",
    "print(c)"
   ]
  },
  {
   "cell_type": "code",
   "execution_count": null,
   "id": "695f7866-2220-42d1-8202-5eaad6dc7c86",
   "metadata": {},
   "outputs": [],
   "source": [
    "# 5 question\n",
    "'''\n",
    "While loop is mainly used when we don't know that how many times we have to iterate.\n",
    "We can control our loop easily in while rather than for loop.\n",
    "We can go to any step in iteration using while loop but can't in for loop.\n",
    "'''\n",
    "# Eg:\n",
    "# i want a program in which if a element in a list is 8 then, from there loop should run again from starting \n",
    "# that means if a list has element 8 then it should run infinite loop \n",
    "# that can only be done by using while loop not possible using for loop \n",
    "\n",
    "# for loop:\n",
    "        for i in [1,5,4,8]:\n",
    "    if i==8:\n",
    "        i=0\n",
    "        print(i)\n",
    "    else:\n",
    "        print(i)\n",
    "# Output: 1 5 4 0\n",
    "\n",
    "\n",
    "# while loop:\n",
    "    i=0\n",
    "    l=[1,5,4,8]\n",
    "    while i<len(l):\n",
    "        if l[i]==8:\n",
    "            i=0\n",
    "        else:\n",
    "            print(l[i])\n",
    "            i+=1\n",
    "# Output: Infinite loop \n"
   ]
  },
  {
   "cell_type": "code",
   "execution_count": null,
   "id": "f455b5b8-d032-4481-b140-39c60f17e26f",
   "metadata": {},
   "outputs": [],
   "source": [
    "# 6 question\n",
    "# pattern 1\n",
    "i=1\n",
    "while i<=5:\n",
    "    j=1\n",
    "    while j<=i:\n",
    "        print('*',end='')\n",
    "        j+=1\n",
    "    print()\n",
    "    i+=1\n",
    "    \n",
    "    \n",
    "# pattern 2 \n",
    "i=1\n",
    "while i<=5:\n",
    "    j=5\n",
    "    while j>i-1:\n",
    "        print(\"*\",end='')\n",
    "        j-=1\n",
    "    print()\n",
    "    i+=1\n",
    "\n",
    "    \n",
    "    \n",
    "# pattern 3\n",
    "i=1\n",
    "while i<=5:\n",
    "    j=1\n",
    "    while j<=5:\n",
    "        print('*',end='')\n",
    "        j+=1\n",
    "    print()\n",
    "    i+=1"
   ]
  },
  {
   "cell_type": "code",
   "execution_count": null,
   "id": "4c788e9a-f26e-46b7-9ed1-ba83d8f9e66f",
   "metadata": {},
   "outputs": [],
   "source": [
    "# 7 question \n",
    "i=10\n",
    "while i>0:\n",
    "    print(i)\n",
    "    i-=1"
   ]
  },
  {
   "cell_type": "code",
   "execution_count": null,
   "id": "c0c2cb59-61cf-42d8-bc2b-bffd3cc7f15e",
   "metadata": {},
   "outputs": [],
   "source": []
  }
 ],
 "metadata": {
  "kernelspec": {
   "display_name": "Python 3 (ipykernel)",
   "language": "python",
   "name": "python3"
  },
  "language_info": {
   "codemirror_mode": {
    "name": "ipython",
    "version": 3
   },
   "file_extension": ".py",
   "mimetype": "text/x-python",
   "name": "python",
   "nbconvert_exporter": "python",
   "pygments_lexer": "ipython3",
   "version": "3.10.8"
  }
 },
 "nbformat": 4,
 "nbformat_minor": 5
}
