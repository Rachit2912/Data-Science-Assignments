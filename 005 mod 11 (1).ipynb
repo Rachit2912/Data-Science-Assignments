{
 "cells": [
  {
   "cell_type": "code",
   "execution_count": 1,
   "id": "07b5aff8-cab5-4435-aad6-f0a005c764e4",
   "metadata": {},
   "outputs": [],
   "source": [
    "#1 question \n",
    "\n",
    "data = [('Sachin Tendulkar', 34357), ('Ricky Ponting', 27483), ('Jack Kallis', 25534), ('Virat Kohli', 24936)]\n",
    "\n",
    "sorted_data =sorted(data,key = lambda x :x[1])"
   ]
  },
  {
   "cell_type": "code",
   "execution_count": 2,
   "id": "5d6ed1f3-10a5-454d-8cdb-6c19cf1cce9f",
   "metadata": {},
   "outputs": [
    {
     "data": {
      "text/plain": [
       "[('Virat Kohli', 24936),\n",
       " ('Jack Kallis', 25534),\n",
       " ('Ricky Ponting', 27483),\n",
       " ('Sachin Tendulkar', 34357)]"
      ]
     },
     "execution_count": 2,
     "metadata": {},
     "output_type": "execute_result"
    }
   ],
   "source": [
    "sorted_data"
   ]
  },
  {
   "cell_type": "code",
   "execution_count": 3,
   "id": "5e8755d9-bc74-4c01-8d44-034042b9c243",
   "metadata": {},
   "outputs": [],
   "source": [
    "# 2 question\n",
    "n = [1, 2, 3, 4, 5, 6, 7, 8, 9, 10]\n",
    "squares = list(map(lambda x : x**2, n))\n"
   ]
  },
  {
   "cell_type": "code",
   "execution_count": 4,
   "id": "0a173485-bb1c-4539-be83-79b71009aa42",
   "metadata": {},
   "outputs": [
    {
     "data": {
      "text/plain": [
       "[1, 4, 9, 16, 25, 36, 49, 64, 81, 100]"
      ]
     },
     "execution_count": 4,
     "metadata": {},
     "output_type": "execute_result"
    }
   ],
   "source": [
    "squares"
   ]
  },
  {
   "cell_type": "code",
   "execution_count": 5,
   "id": "fe49935e-8546-4fe0-9af2-e59e6bc9c224",
   "metadata": {},
   "outputs": [],
   "source": [
    "# 3 question\n",
    "n = [1,2,3,4,5,6,7,8,9,10]\n",
    "string = list(map(lambda x :str(x),n))"
   ]
  },
  {
   "cell_type": "code",
   "execution_count": 6,
   "id": "5b9ebed5-17aa-45c8-8e65-5981a80e138c",
   "metadata": {},
   "outputs": [
    {
     "data": {
      "text/plain": [
       "['1', '2', '3', '4', '5', '6', '7', '8', '9', '10']"
      ]
     },
     "execution_count": 6,
     "metadata": {},
     "output_type": "execute_result"
    }
   ],
   "source": [
    "string"
   ]
  },
  {
   "cell_type": "code",
   "execution_count": 7,
   "id": "6cb3a10d-8a60-4fe3-a15f-29197994ff7e",
   "metadata": {},
   "outputs": [
    {
     "data": {
      "text/plain": [
       "15511210043330985984000000"
      ]
     },
     "execution_count": 7,
     "metadata": {},
     "output_type": "execute_result"
    }
   ],
   "source": [
    "# 4 question \n",
    "from functools  import reduce\n",
    "n = list(range(1,26))\n",
    "reduce(lambda x,y : x*y,n)"
   ]
  },
  {
   "cell_type": "code",
   "execution_count": 8,
   "id": "03085a82-2d1c-4456-86fe-133aa4c253ac",
   "metadata": {},
   "outputs": [
    {
     "data": {
      "text/plain": [
       "[6, 60, 90, 120]"
      ]
     },
     "execution_count": 8,
     "metadata": {},
     "output_type": "execute_result"
    }
   ],
   "source": [
    "#5 question \n",
    "n = [2,3,6,9,27,60,90,120,55,46]\n",
    "list(filter(lambda x : (x%2 == 0) and (x%3 == 0), n))"
   ]
  },
  {
   "cell_type": "code",
   "execution_count": 9,
   "id": "662bc90b-3694-4195-9661-dce5b928c737",
   "metadata": {},
   "outputs": [
    {
     "data": {
      "text/plain": [
       "['php', 'aba', 'radar', 'level']"
      ]
     },
     "execution_count": 9,
     "metadata": {},
     "output_type": "execute_result"
    }
   ],
   "source": [
    "#6 question \n",
    "l = ['python', 'php', 'aba', 'radar', 'level']\n",
    "list(filter(lambda x : x==x[::-1],l))"
   ]
  }
 ],
 "metadata": {
  "kernelspec": {
   "display_name": "Python 3 (ipykernel)",
   "language": "python",
   "name": "python3"
  },
  "language_info": {
   "codemirror_mode": {
    "name": "ipython",
    "version": 3
   },
   "file_extension": ".py",
   "mimetype": "text/x-python",
   "name": "python",
   "nbconvert_exporter": "python",
   "pygments_lexer": "ipython3",
   "version": "3.11.8"
  }
 },
 "nbformat": 4,
 "nbformat_minor": 5
}
