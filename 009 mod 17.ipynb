{
 "cells": [
  {
   "cell_type": "code",
   "execution_count": 1,
   "id": "6302d79e-ab72-475b-9776-727704f491eb",
   "metadata": {},
   "outputs": [
    {
     "name": "stdout",
     "output_type": "stream",
     "text": [
      "Car started.\n",
      "Motorcycle started.\n"
     ]
    },
    {
     "data": {
      "text/plain": [
       "'\\nHere, Vehicle is abstract, providing a template with start() and stop() methods. Subclasses Car and Motorcycle implement these methods according to their specific behaviors. This abstraction allows us to use a common interface (start() and stop()) for different types of vehicles.\\n'"
      ]
     },
     "execution_count": 1,
     "metadata": {},
     "output_type": "execute_result"
    }
   ],
   "source": [
    "# question 1 \n",
    "\"\"\"\n",
    "Abstraction in OOP is about hiding complex implementation details and showing only essential features. In Python, it's achieved using classes and methods. For example:\n",
    "\"\"\"\n",
    "class Vehicle:\n",
    "    def start(self):\n",
    "        pass\n",
    "    \n",
    "    def stop(self):\n",
    "        pass\n",
    "\n",
    "class Car(Vehicle):\n",
    "    def start(self):\n",
    "        print(\"Car started.\")\n",
    "    \n",
    "    def stop(self):\n",
    "        print(\"Car stopped.\")\n",
    "\n",
    "class Motorcycle(Vehicle):\n",
    "    def start(self):\n",
    "        print(\"Motorcycle started.\")\n",
    "    \n",
    "    def stop(self):\n",
    "        print(\"Motorcycle stopped.\")\n",
    "\n",
    "my_car = Car()\n",
    "my_motorcycle = Motorcycle()\n",
    "\n",
    "my_car.start()  # Output: Car started.\n",
    "my_motorcycle.start()  # Output: Motorcycle started.\n",
    "\"\"\"\n",
    "Here, Vehicle is abstract, providing a template with start() and stop() methods. Subclasses Car and Motorcycle implement these methods according to their specific behaviors. This abstraction allows us to use a common interface (start() and stop()) for different types of vehicles.\n",
    "\"\"\"\n"
   ]
  },
  {
   "cell_type": "code",
   "execution_count": 2,
   "id": "a9e90e81-792f-4c34-b822-331b2fb86d52",
   "metadata": {},
   "outputs": [],
   "source": [
    "# question 2 :\n",
    "\"\"\"\n",
    "Abstraction:\n",
    "\n",
    "Focuses on showing only essential features, hiding implementation details.\n",
    "Deals with 'what' rather than 'how'.\n",
    "Simplifies complex systems.\n",
    "Achieved through abstract classes, interfaces, and methods.\n",
    "Encapsulation:\n",
    "\n",
    "Bundles data and methods into a single unit (class).\n",
    "Restricts direct access to data, protecting it from external interference.\n",
    "Achieves data hiding, ensuring the object's internal state remains consistent.\n",
    "Access to data is controlled through methods.\n",
    "Example: Consider a BankAccount class. Abstraction hides complexities like interest calculations. Encapsulation protects attributes like account_number and balance from direct access, ensuring data integrity.\n",
    "\"\"\"\n",
    "\n",
    "class BankAccount:\n",
    "    def __init__(self, account_number, balance):\n",
    "        self._account_number = account_number  # Encapsulation\n",
    "        self._balance = balance  # Encapsulation\n",
    "\n",
    "    def deposit(self, amount):\n",
    "        self._balance += amount  # Encapsulation\n",
    "\n",
    "    def withdraw(self, amount):\n",
    "        if self._balance >= amount:\n",
    "            self._balance -= amount\n",
    "        else:\n",
    "            print(\"Insufficient funds\")\n"
   ]
  },
  {
   "cell_type": "code",
   "execution_count": 3,
   "id": "6d92ebbe-daa3-4a0f-a932-05da9765b026",
   "metadata": {},
   "outputs": [
    {
     "name": "stdout",
     "output_type": "stream",
     "text": [
      "20\n"
     ]
    },
    {
     "data": {
      "text/plain": [
       "'\\nIn this example, Shape is an abstract base class defining an abstract method area(). Rectangle is a concrete subclass of Shape implementing the area() method. The abc module ensures that any subclass of Shape must implement the area() method, enforcing a contract.\\n\\n'"
      ]
     },
     "execution_count": 3,
     "metadata": {},
     "output_type": "execute_result"
    }
   ],
   "source": [
    "# question 3 :\n",
    "\"\"\"\n",
    "The abc module in Python stands for Abstract Base Classes. It's used to define abstract base classes, which are classes that cannot be instantiated themselves but serve as templates for concrete subclasses.\n",
    "\n",
    "Purpose:\n",
    "\n",
    "Provides a way to enforce a protocol or interface without implementing all methods.\n",
    "Ensures that derived classes implement specific methods, enforcing a contract.\n",
    "Helps in designing flexible and maintainable code by promoting code reuse and standardization.\n",
    "\"\"\"\n",
    "from abc import ABC, abstractmethod\n",
    "\n",
    "class Shape(ABC):\n",
    "    @abstractmethod\n",
    "    def area(self):\n",
    "        pass\n",
    "\n",
    "class Rectangle(Shape):\n",
    "    def __init__(self, length, breadth):\n",
    "        self.length = length\n",
    "        self.breadth = breadth\n",
    "    \n",
    "    def area(self):\n",
    "        return self.length * self.breadth\n",
    "\n",
    "rectangle = Rectangle(5, 4)\n",
    "print(rectangle.area())  \n",
    "\"\"\"\n",
    "In this example, Shape is an abstract base class defining an abstract method area(). Rectangle is a concrete subclass of Shape implementing the area() method. The abc module ensures that any subclass of Shape must implement the area() method, enforcing a contract.\n",
    "\n",
    "\"\"\"\n"
   ]
  },
  {
   "cell_type": "code",
   "execution_count": 5,
   "id": "b04d6b00-5717-4868-9775-66c751be93c4",
   "metadata": {},
   "outputs": [
    {
     "data": {
      "text/plain": [
       "'\\nData abstraction in programming refers to the concept of hiding the implementation details of data and exposing only the essential features or interfaces. In Python, data abstraction can be achieved through:\\n\\nClasses and Objects: Define classes to represent data structures and objects to encapsulate data and behaviors.\\n\\nAccess Control: Use access modifiers such as private, protected, and public to control access to data members.\\n\\nEncapsulation: Bundle data and methods that operate on that data into a single unit (class), hiding the internal details from the outside world.\\n\\nBy following these principles, you can create classes that expose only necessary interfaces, hiding the internal representation and implementation details of the data. This promotes modularization, reduces complexity, and enhances code maintainability.\\n\\n\\n\\n\\n\\n'"
      ]
     },
     "execution_count": 5,
     "metadata": {},
     "output_type": "execute_result"
    }
   ],
   "source": [
    "#question 4 :\n",
    "\"\"\"\n",
    "Data abstraction in programming refers to the concept of hiding the implementation details of data and exposing only the essential features or interfaces. In Python, data abstraction can be achieved through:\n",
    "\n",
    "Classes and Objects: Define classes to represent data structures and objects to encapsulate data and behaviors.\n",
    "\n",
    "Access Control: Use access modifiers such as private, protected, and public to control access to data members.\n",
    "\n",
    "Encapsulation: Bundle data and methods that operate on that data into a single unit (class), hiding the internal details from the outside world.\n",
    "\n",
    "By following these principles, you can create classes that expose only necessary interfaces, hiding the internal representation and implementation details of the data. This promotes modularization, reduces complexity, and enhances code maintainability.\n",
    "\n",
    "\n",
    "\n",
    "\n",
    "\n",
    "\"\"\""
   ]
  },
  {
   "cell_type": "code",
   "execution_count": 8,
   "id": "dd64637a-45dc-4efc-9142-d3ab2c307c7a",
   "metadata": {},
   "outputs": [
    {
     "name": "stdout",
     "output_type": "stream",
     "text": [
      "20\n"
     ]
    },
    {
     "data": {
      "text/plain": [
       "'\\nIn this example, Shape is an abstract class with an abstract method area(). Trying to create an instance of Shape directly (shape = Shape()) will result in a TypeError. Instead, we create an instance of the concrete subclass Rectangle, which inherits from Shape and implements the area() method.\\n\\n'"
      ]
     },
     "execution_count": 8,
     "metadata": {},
     "output_type": "execute_result"
    }
   ],
   "source": [
    "# question 5 :\n",
    "\"\"\"\n",
    "No, we cannot create an instance of an abstract class directly in Python. Abstract classes are designed to serve as templates or blueprints for other classes to inherit from. They typically contain one or more abstract methods, which are methods declared but not implemented in the abstract class itself.\n",
    "\n",
    "Attempting to create an instance of an abstract class directly will result in a TypeError. Instead, we must create instances of concrete subclasses that inherit from the abstract class and implement all the abstract methods defined in the parent abstract class.\n",
    "\"\"\"\n",
    "from abc import ABC, abstractmethod\n",
    "\n",
    "class Shape(ABC):\n",
    "    @abstractmethod\n",
    "    def area(self):\n",
    "        pass\n",
    "\n",
    "class Rectangle(Shape):\n",
    "    def __init__(self, length, breadth):\n",
    "        self.length = length\n",
    "        self.breadth = breadth\n",
    "    \n",
    "    def area(self):\n",
    "        return self.length * self.breadth\n",
    "\n",
    "\n",
    "rectangle = Rectangle(5, 4)\n",
    "print(rectangle.area())  \n",
    "\n",
    "\"\"\"\n",
    "In this example, Shape is an abstract class with an abstract method area(). Trying to create an instance of Shape directly (shape = Shape()) will result in a TypeError. Instead, we create an instance of the concrete subclass Rectangle, which inherits from Shape and implements the area() method.\n",
    "\n",
    "\"\"\""
   ]
  },
  {
   "cell_type": "code",
   "execution_count": null,
   "id": "36ac9fc0-ca71-45b0-a7f5-b49b9fe77032",
   "metadata": {},
   "outputs": [],
   "source": []
  }
 ],
 "metadata": {
  "kernelspec": {
   "display_name": "Python 3 (ipykernel)",
   "language": "python",
   "name": "python3"
  },
  "language_info": {
   "codemirror_mode": {
    "name": "ipython",
    "version": 3
   },
   "file_extension": ".py",
   "mimetype": "text/x-python",
   "name": "python",
   "nbconvert_exporter": "python",
   "pygments_lexer": "ipython3",
   "version": "3.10.8"
  }
 },
 "nbformat": 4,
 "nbformat_minor": 5
}
