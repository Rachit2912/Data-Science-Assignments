{
 "cells": [
  {
   "cell_type": "code",
   "execution_count": 2,
   "id": "4afba5e0-ea76-4cd1-b6f9-e78105498848",
   "metadata": {},
   "outputs": [
    {
     "name": "stdout",
     "output_type": "stream",
     "text": [
      "1\n",
      "2\n",
      "3\n",
      "4\n",
      "5\n",
      "\n",
      "5\n",
      "4\n",
      "3\n",
      "2\n",
      "1\n"
     ]
    }
   ],
   "source": [
    "#1 question\n",
    "''' we will use for loop when we are sure about the no. of iterations while we use while loop when we aren't sure about the no. of interations but we have that condition for the loop .'''\n",
    "#for loop\n",
    "numbers = [1, 2, 3, 4, 5]\n",
    "for num in numbers:\n",
    "    print(num)\n",
    "print()\n",
    "    \n",
    "# while loop \n",
    "countdown = 5\n",
    "while countdown > 0:\n",
    "    print(countdown)\n",
    "    countdown -= 1\n"
   ]
  },
  {
   "cell_type": "code",
   "execution_count": 3,
   "id": "b1cf949d-ef21-456f-afc4-6bfb9d26f064",
   "metadata": {},
   "outputs": [
    {
     "name": "stdout",
     "output_type": "stream",
     "text": [
      "Using while loop:\n",
      "Sum: 55\n",
      "Product: 3628800\n"
     ]
    }
   ],
   "source": [
    "#2 question\n",
    "# Using while loop to calculate sum and product of the first 10 natural numbers\n",
    "\n",
    "# Initialize variables for sum and product\n",
    "sum_result = 0\n",
    "product_result = 1\n",
    "\n",
    "# Initialize a counter for the while loop\n",
    "counter = 1\n",
    "\n",
    "# Using while loop for sum and product\n",
    "while counter <= 10:\n",
    "    sum_result += counter\n",
    "    product_result *= counter\n",
    "    counter += 1\n",
    "\n",
    "# Print the results\n",
    "print(\"Using while loop:\")\n",
    "print(\"Sum:\", sum_result)\n",
    "print(\"Product:\", product_result)\n"
   ]
  },
  {
   "cell_type": "code",
   "execution_count": 5,
   "id": "f5ac7a35-7fb4-4e19-948d-9c2a142aa11f",
   "metadata": {},
   "outputs": [
    {
     "name": "stdin",
     "output_type": "stream",
     "text": [
      "Enter the units of electricity consumed in a month:  310\n"
     ]
    },
    {
     "name": "stdout",
     "output_type": "stream",
     "text": [
      "Electricity Bill for 310 units: Rs. 2250.00\n"
     ]
    }
   ],
   "source": [
    "#3 question\n",
    "# Take input for units of electricity consumed\n",
    "units_consumed = int(input(\"Enter the units of electricity consumed in a month: \"))\n",
    "\n",
    "# Initialize variables for calculating the electricity bill\n",
    "total_bill = 0\n",
    "\n",
    "# Calculate electricity bill based on the given per-unit charges\n",
    "if units_consumed <= 100:\n",
    "    total_bill = units_consumed * 4.5\n",
    "elif units_consumed <= 200:\n",
    "    total_bill = 100 * 4.5 + (units_consumed - 100) * 6\n",
    "elif units_consumed <= 300:\n",
    "    total_bill = 100 * 4.5 + 100 * 6 + (units_consumed - 200) * 10\n",
    "else:\n",
    "    total_bill = 100 * 4.5 + 100 * 6 + 100 * 10 + (units_consumed - 300) * 20\n",
    "\n",
    "# Print the electricity bill\n",
    "print(f\"Electricity Bill for {units_consumed} units: Rs. {total_bill:.2f}\")\n"
   ]
  },
  {
   "cell_type": "code",
   "execution_count": 6,
   "id": "7537b77a-9c2a-43ee-a532-f17be39659a6",
   "metadata": {},
   "outputs": [
    {
     "name": "stdout",
     "output_type": "stream",
     "text": [
      "Using for loop:\n",
      "Numbers whose cube is divisible by 4 or 5: [2, 4, 5, 6, 8, 10, 12, 14, 15, 16, 18, 20, 22, 24, 25, 26, 28, 30, 32, 34, 35, 36, 38, 40, 42, 44, 45, 46, 48, 50, 52, 54, 55, 56, 58, 60, 62, 64, 65, 66, 68, 70, 72, 74, 75, 76, 78, 80, 82, 84, 85, 86, 88, 90, 92, 94, 95, 96, 98, 100]\n",
      "\n",
      "Using while loop:\n",
      "Numbers whose cube is divisible by 4 or 5: [2, 4, 5, 6, 8, 10, 12, 14, 15, 16, 18, 20, 22, 24, 25, 26, 28, 30, 32, 34, 35, 36, 38, 40, 42, 44, 45, 46, 48, 50, 52, 54, 55, 56, 58, 60, 62, 64, 65, 66, 68, 70, 72, 74, 75, 76, 78, 80, 82, 84, 85, 86, 88, 90, 92, 94, 95, 96, 98, 100]\n"
     ]
    }
   ],
   "source": [
    "#4 question\n",
    "# Using for loop to create a list of numbers and find cubes\n",
    "numbers_list = list(range(1, 101))\n",
    "cube_divisible_by_4_or_5_for = []\n",
    "\n",
    "for number in numbers_list:\n",
    "    cube = number ** 3\n",
    "    if cube % 4 == 0 or cube % 5 == 0:\n",
    "        cube_divisible_by_4_or_5_for.append(number)\n",
    "\n",
    "# Print the list\n",
    "print(\"Using for loop:\")\n",
    "print(\"Numbers whose cube is divisible by 4 or 5:\", cube_divisible_by_4_or_5_for)\n",
    "\n",
    "# Using while loop to create a list of numbers and find cubes\n",
    "cube_divisible_by_4_or_5_while = []\n",
    "counter = 1\n",
    "\n",
    "while counter <= 100:\n",
    "    cube = counter ** 3\n",
    "    if cube % 4 == 0 or cube % 5 == 0:\n",
    "        cube_divisible_by_4_or_5_while.append(counter)\n",
    "    counter += 1\n",
    "\n",
    "# Print the list\n",
    "print(\"\\nUsing while loop:\")\n",
    "print(\"Numbers whose cube is divisible by 4 or 5:\", cube_divisible_by_4_or_5_while)\n"
   ]
  },
  {
   "cell_type": "code",
   "execution_count": 7,
   "id": "123ce942-872b-43c3-90cf-88f4b57ce542",
   "metadata": {},
   "outputs": [
    {
     "name": "stdout",
     "output_type": "stream",
     "text": [
      "Number of vowels in the given string: 12\n"
     ]
    }
   ],
   "source": [
    "#5 question\n",
    "# Given string\n",
    "input_string = \"I want to become a data scientist\"\n",
    "\n",
    "# Convert the string to lowercase to make the counting case-insensitive\n",
    "lowercase_string = input_string.lower()\n",
    "\n",
    "# Define vowels\n",
    "vowels = \"aeiou\"\n",
    "\n",
    "# Initialize a counter for vowels\n",
    "vowel_count = 0\n",
    "\n",
    "# Loop through each character in the string and count vowels\n",
    "for char in lowercase_string:\n",
    "    if char in vowels:\n",
    "        vowel_count += 1\n",
    "\n",
    "# Print the result\n",
    "print(f\"Number of vowels in the given string: {vowel_count}\")\n"
   ]
  }
 ],
 "metadata": {
  "kernelspec": {
   "display_name": "Python 3 (ipykernel)",
   "language": "python",
   "name": "python3"
  },
  "language_info": {
   "codemirror_mode": {
    "name": "ipython",
    "version": 3
   },
   "file_extension": ".py",
   "mimetype": "text/x-python",
   "name": "python",
   "nbconvert_exporter": "python",
   "pygments_lexer": "ipython3",
   "version": "3.10.8"
  }
 },
 "nbformat": 4,
 "nbformat_minor": 5
}
