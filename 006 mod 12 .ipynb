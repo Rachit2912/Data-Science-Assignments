{
 "cells": [
  {
   "cell_type": "code",
   "execution_count": 5,
   "id": "b421413c-6c9c-4b96-9284-670063e7e1a0",
   "metadata": {},
   "outputs": [
    {
     "name": "stdout",
     "output_type": "stream",
     "text": [
      "Buddy is 3 years old.\n",
      "Max is 5 years old.\n",
      "Buddy says: Woof!\n",
      "Max says: Woof!\n"
     ]
    }
   ],
   "source": [
    "# question 1 :\n",
    "\"\"\"\n",
    "In object-oriented programming (OOP), a class is a blueprint or template for creating objects (instances). It defines the properties (attributes) and behaviors (methods) that objects of that class will have. Think of a class as a blueprint for a specific type of object.\n",
    "\n",
    "An object, on the other hand, is an instance of a class. It's a concrete entity created based on the blueprint defined by the class. Each object has its own unique set of properties and can perform actions defined by its class.\n",
    "\"\"\"\n",
    "\n",
    "\n",
    "class Dog:\n",
    "    def __init__(self, name, age):\n",
    "        self.name = name\n",
    "        self.age = age\n",
    "\n",
    "    def bark(self):\n",
    "        print(f\"{self.name} says: Woof!\")\n",
    "\n",
    "# Creating objects of the Dog class\n",
    "dog1 = Dog(\"Buddy\", 3)\n",
    "dog2 = Dog(\"Max\", 5)\n",
    "\n",
    "# Accessing object properties\n",
    "print(f\"{dog1.name} is {dog1.age} years old.\")  # Output: Buddy is 3 years old.\n",
    "print(f\"{dog2.name} is {dog2.age} years old.\")  # Output: Max is 5 years old.\n",
    "\n",
    "# Calling object method\n",
    "dog1.bark()  # Output: Buddy says: Woof!\n",
    "dog2.bark()  # Output: Max says: Woof!\n"
   ]
  },
  {
   "cell_type": "code",
   "execution_count": 6,
   "id": "c1c036ad-44bc-4b9a-a829-2ea669b1edaa",
   "metadata": {},
   "outputs": [
    {
     "name": "stdout",
     "output_type": "stream",
     "text": [
      "encapsulation\n",
      "abstraction\n",
      "inheritance\n",
      "polymorphism\n"
     ]
    }
   ],
   "source": [
    "# 2 question :\n",
    "print(\"encapsulation\")\n",
    "print(\"abstraction\")\n",
    "print(\"inheritance\")\n",
    "print(\"polymorphism\")"
   ]
  },
  {
   "cell_type": "code",
   "execution_count": 8,
   "id": "f48d90e4-4c4e-4648-8a36-813dfad26266",
   "metadata": {},
   "outputs": [
    {
     "name": "stdout",
     "output_type": "stream",
     "text": [
      "Alice\n",
      "25\n"
     ]
    }
   ],
   "source": [
    "# 3 question :\n",
    "'''\n",
    "The __init__() function in Python is used to initialize the attributes of an object when it is created. It assigns initial values to object attributes, ensuring that the object is in a valid state upon instantiation\n",
    "'''\n",
    "\n",
    "class Person:\n",
    "    def __init__(self, name, age):\n",
    "        self.name = name\n",
    "        self.age = age\n",
    "\n",
    "# Creating objects of the Person class\n",
    "person1 = Person(\"Alice\", 30)\n",
    "person2 = Person(\"Bob\", 25)\n",
    "\n",
    "print(person1.name)  \n",
    "print(person2.age)  "
   ]
  },
  {
   "cell_type": "code",
   "execution_count": 9,
   "id": "4ae1da3f-719b-4bfc-b95a-ec7251447cb7",
   "metadata": {},
   "outputs": [
    {
     "data": {
      "text/plain": [
       "'\\nIn object-oriented programming, self is used to refer to the current instance of a class. It allows accessing and manipulating instance variables and calling methods within the class. Essentially, self ensures that methods operate on the specific instance of the class to which they belong, enabling proper object state management and method invocation.\\n'"
      ]
     },
     "execution_count": 9,
     "metadata": {},
     "output_type": "execute_result"
    }
   ],
   "source": [
    "# 4 question : \n",
    "'''\n",
    "In object-oriented programming, self is used to refer to the current instance of a class. It allows accessing and manipulating instance variables and calling methods within the class. Essentially, self ensures that methods operate on the specific instance of the class to which they belong, enabling proper object state management and method invocation.\n",
    "'''"
   ]
  },
  {
   "cell_type": "code",
   "execution_count": 10,
   "id": "c5d1e39e-1028-4ab9-b619-ecb8aee70f00",
   "metadata": {},
   "outputs": [],
   "source": [
    "# 5 question :\n",
    "'''\n",
    "Inheritance is a fundamental concept in object-oriented programming where a new class (subclass) is created by deriving from an existing class (superclass). The subclass inherits the attributes and behaviors of the superclass, allowing code reuse and promoting hierarchical relationships among classes.\n",
    "'''\n",
    "\n",
    "#1 single inheritance :\n",
    "class Animal:\n",
    "    def sound(self):\n",
    "        print(\"Makes a sound\")\n",
    "\n",
    "class Dog(Animal):\n",
    "    def bark(self):\n",
    "        print(\"Barks\")\n",
    "\n",
    "# Dog inherits from Animal\n",
    "\n",
    "\n",
    "#2 Multiple Inheritance\n",
    "class Flyable:\n",
    "    def fly(self):\n",
    "        print(\"Can fly\")\n",
    "\n",
    "class Swimmable:\n",
    "    def swim(self):\n",
    "        print(\"Can swim\")\n",
    "\n",
    "class Duck(Flyable, Swimmable):\n",
    "    pass\n",
    "\n",
    "# Duck inherits from both Flyable and Swimmable\n",
    "\n",
    "\n",
    "#3 Multilevel Inheritance\n",
    "class Animal:\n",
    "    def sound(self):\n",
    "        print(\"Makes a sound\")\n",
    "\n",
    "class Dog(Animal):\n",
    "    def bark(self):\n",
    "        print(\"Barks\")\n",
    "\n",
    "class Labrador(Dog):\n",
    "    def color(self):\n",
    "        print(\"Brown\")\n",
    "\n",
    "# Labrador inherits from both Dog and Animal\n",
    "\n",
    "\n",
    "#4 Hierarchial Inheritance\n",
    "class Animal:\n",
    "    def sound(self):\n",
    "        print(\"Makes a sound\")\n",
    "\n",
    "class Dog(Animal):\n",
    "    def bark(self):\n",
    "        print(\"Barks\")\n",
    "\n",
    "class Cat(Animal):\n",
    "    def meow(self):\n",
    "        print(\"Meows\")\n",
    "\n",
    "# Both Dog and Cat inherit from Animal\n",
    "\n"
   ]
  },
  {
   "cell_type": "code",
   "execution_count": null,
   "id": "5f2e62cd-64da-4a0d-9abc-7cccb59345a0",
   "metadata": {},
   "outputs": [],
   "source": []
  }
 ],
 "metadata": {
  "kernelspec": {
   "display_name": "Python 3 (ipykernel)",
   "language": "python",
   "name": "python3"
  },
  "language_info": {
   "codemirror_mode": {
    "name": "ipython",
    "version": 3
   },
   "file_extension": ".py",
   "mimetype": "text/x-python",
   "name": "python",
   "nbconvert_exporter": "python",
   "pygments_lexer": "ipython3",
   "version": "3.10.8"
  }
 },
 "nbformat": 4,
 "nbformat_minor": 5
}
