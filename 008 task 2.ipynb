{
 "cells": [
  {
   "cell_type": "code",
   "execution_count": 5,
   "id": "38d98c95-52c0-4e15-be14-af7e05a9274a",
   "metadata": {},
   "outputs": [
    {
     "name": "stdin",
     "output_type": "stream",
     "text": [
      "Enter your password:  abAB1!@#ak\n"
     ]
    },
    {
     "name": "stdout",
     "output_type": "stream",
     "text": [
      "Valid Password\n"
     ]
    }
   ],
   "source": [
    "# question 1 :\n",
    "def valid_pswd(pwd):\n",
    "    \n",
    "    if len(password) != 10:\n",
    "        return \"Invalid Password\"\n",
    "    \n",
    "    upper_count = 0\n",
    "    lower_count = 0\n",
    "    digit_count = 0\n",
    "    special_count = 0\n",
    "    \n",
    "    for char in password:\n",
    "        if char.isupper():\n",
    "            upper_count += 1\n",
    "        elif char.islower():\n",
    "            lower_count += 1\n",
    "        elif char.isdigit():\n",
    "            digit_count += 1\n",
    "        elif char in \"!@#$%^&*()-+=[]{};:',.<>?\\\\/\":\n",
    "            special_count += 1\n",
    "    \n",
    "    if upper_count >= 2 and lower_count >= 2 and digit_count >= 1 and special_count >= 3:\n",
    "        return \"Valid Password\"\n",
    "    else:\n",
    "        return \"Invalid Password\"\n",
    "\n",
    "password = input(\"Enter your password: \")\n",
    "result = valid_pswd(password)\n",
    "print(result)\n"
   ]
  },
  {
   "cell_type": "code",
   "execution_count": 7,
   "id": "b27b7166-e5aa-4545-8daf-b99ab05b91c1",
   "metadata": {},
   "outputs": [
    {
     "name": "stdout",
     "output_type": "stream",
     "text": [
      "True\n"
     ]
    }
   ],
   "source": [
    "# question 2 :\n",
    "# (a)  \n",
    "startsWithLetter = lambda string, letter: string.startswith(letter)\n",
    "print(startsWithLetter(\"apple\", \"a\"))  \n"
   ]
  },
  {
   "cell_type": "code",
   "execution_count": 8,
   "id": "d2e51670-fd99-4f08-85ea-3399085c62d9",
   "metadata": {},
   "outputs": [
    {
     "name": "stdout",
     "output_type": "stream",
     "text": [
      "True\n"
     ]
    }
   ],
   "source": [
    "# (b) \n",
    "isNumeric = lambda string: string.isnumeric()\n",
    "print(isNumeric(\"123\"))  "
   ]
  },
  {
   "cell_type": "code",
   "execution_count": 12,
   "id": "537e32fb-ed4a-4157-a49b-7cc9ce9cb99a",
   "metadata": {},
   "outputs": [
    {
     "name": "stdout",
     "output_type": "stream",
     "text": [
      "[('grapes', 1000), ('mango', 99), ('orange', 80)]\n"
     ]
    }
   ],
   "source": [
    "# (c) \n",
    "fruits = [(\"mango\",99),(\"orange\",80), (\"grapes\", 1000)]\n",
    "sorted_fruits = sorted(fruits, key = lambda x: x[0])\n",
    "print(sorted_fruits)"
   ]
  },
  {
   "cell_type": "code",
   "execution_count": 13,
   "id": "d2e94de8-fdd8-45b2-bf17-0dcef4bfc684",
   "metadata": {},
   "outputs": [
    {
     "name": "stdout",
     "output_type": "stream",
     "text": [
      "[1, 4, 9, 16, 25, 36, 49, 64, 81, 100]\n"
     ]
    }
   ],
   "source": [
    "# (d) \n",
    "squares = [x**2 for x in range(1, 11)]\n",
    "print(squares)"
   ]
  },
  {
   "cell_type": "code",
   "execution_count": 16,
   "id": "71065318-3da6-4a20-bedc-ee8a695d4723",
   "metadata": {},
   "outputs": [
    {
     "name": "stdout",
     "output_type": "stream",
     "text": [
      "[1.0, 1.2599210498948732, 1.4422495703074083, 1.5874010519681994, 1.7099759466766968, 1.8171205928321397, 1.912931182772389, 2.0, 2.080083823051904, 2.154434690031884]\n"
     ]
    }
   ],
   "source": [
    "# (e) \n",
    "cube_Root = [x**(1/3) for x in range(1, 11)]\n",
    "print(cube_Root)"
   ]
  },
  {
   "cell_type": "code",
   "execution_count": 17,
   "id": "93925772-e9bc-45f3-afaa-52810fe8b39b",
   "metadata": {},
   "outputs": [
    {
     "name": "stdout",
     "output_type": "stream",
     "text": [
      "False\n"
     ]
    }
   ],
   "source": [
    "# (f)\n",
    "isEven = lambda num: num % 2 == 0\n",
    "print(isEven(5))  "
   ]
  },
  {
   "cell_type": "code",
   "execution_count": 20,
   "id": "0d927814-e0ba-4118-ae6f-00f2a9cf29d7",
   "metadata": {},
   "outputs": [
    {
     "data": {
      "text/plain": [
       "[2, 4, 6, 8, 10]"
      ]
     },
     "execution_count": 20,
     "metadata": {},
     "output_type": "execute_result"
    }
   ],
   "source": [
    "# (g)\n",
    "numbers = list(range(1,11))\n",
    "list(filter(lambda x : x%2 == 0,numbers))"
   ]
  },
  {
   "cell_type": "code",
   "execution_count": 21,
   "id": "f358f8b3-14fe-485e-b88c-323a82a01588",
   "metadata": {},
   "outputs": [
    {
     "name": "stdout",
     "output_type": "stream",
     "text": [
      "negatives are :  [-1, -2, -3, -4, -5]\n",
      "positives are :  [1, 2, 3, 4, 5, 6]\n"
     ]
    }
   ],
   "source": [
    "# (h)\n",
    "numbers = [1,2,3,4,5,6,-1,-2,-3,-4,-5,0]\n",
    "neg = list(filter(lambda x : x < 0,numbers))\n",
    "pos = list(filter(lambda x : x > 0,numbers))\n",
    "print(\"negatives are : \",neg)\n",
    "print(\"positives are : \",pos)"
   ]
  },
  {
   "cell_type": "code",
   "execution_count": null,
   "id": "514bab43-c327-4282-a562-5912a1a14780",
   "metadata": {},
   "outputs": [],
   "source": []
  }
 ],
 "metadata": {
  "kernelspec": {
   "display_name": "Python 3 (ipykernel)",
   "language": "python",
   "name": "python3"
  },
  "language_info": {
   "codemirror_mode": {
    "name": "ipython",
    "version": 3
   },
   "file_extension": ".py",
   "mimetype": "text/x-python",
   "name": "python",
   "nbconvert_exporter": "python",
   "pygments_lexer": "ipython3",
   "version": "3.10.8"
  }
 },
 "nbformat": 4,
 "nbformat_minor": 5
}
