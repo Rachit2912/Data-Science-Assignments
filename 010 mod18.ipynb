{
 "cells": [
  {
   "cell_type": "code",
   "execution_count": 1,
   "id": "625fdd43-580b-40fe-a776-5dc6f43d7051",
   "metadata": {},
   "outputs": [
    {
     "name": "stdout",
     "output_type": "stream",
     "text": [
      "Name: Toyota Camry\n",
      "Max Speed: 180\n",
      "Average Speed: 30\n"
     ]
    }
   ],
   "source": [
    "# question 1 :\n",
    "class Vehicle:\n",
    "    def __init__(self, name_of_vehicle, max_speed, average_of_vehicle):\n",
    "        self.name_of_vehicle = name_of_vehicle\n",
    "        self.max_speed = max_speed\n",
    "        self.average_of_vehicle = average_of_vehicle\n",
    "\n",
    "car = Vehicle(\"Toyota Camry\", 180, 30)\n",
    "print(\"Name:\", car.name_of_vehicle)\n",
    "print(\"Max Speed:\", car.max_speed)\n",
    "print(\"Average Speed:\", car.average_of_vehicle)\n"
   ]
  },
  {
   "cell_type": "code",
   "execution_count": 3,
   "id": "948e334f-f174-4e54-9ccb-67c20012ab31",
   "metadata": {},
   "outputs": [
    {
     "name": "stdout",
     "output_type": "stream",
     "text": [
      "The Toyota Camry has a seating capacity of 5.\n"
     ]
    }
   ],
   "source": [
    "# question 2:\n",
    "class Vehicle:\n",
    "    def __init__(self, name_of_vehicle, max_speed, average_of_vehicle):\n",
    "        self.name_of_vehicle = name_of_vehicle\n",
    "        self.max_speed = max_speed\n",
    "        self.average_of_vehicle = average_of_vehicle\n",
    "\n",
    "class Car(Vehicle):\n",
    "    def __init__(self, name_of_vehicle, max_speed, average_of_vehicle):\n",
    "        super().__init__(name_of_vehicle, max_speed, average_of_vehicle)\n",
    "\n",
    "    def seating_capacity(self, capacity):\n",
    "        return f\"The {self.name_of_vehicle} has a seating capacity of {capacity}.\"\n",
    "\n",
    "# Example usage:\n",
    "car = Car(\"Toyota Camry\", 180, 30)\n",
    "print(car.seating_capacity(5))\n"
   ]
  },
  {
   "cell_type": "code",
   "execution_count": 4,
   "id": "b2d001a5-f010-445a-8739-490945406a58",
   "metadata": {},
   "outputs": [
    {
     "name": "stdout",
     "output_type": "stream",
     "text": [
      "Method from class A\n",
      "Method from class B\n",
      "Method from class C\n"
     ]
    },
    {
     "data": {
      "text/plain": [
       "\"\\nIn this example:\\n\\nClass C is inheriting from both class A and class B.\\nAs a result, the instance of class C (obj_C) has access to methods from both class A and class B, in addition to its own methods defined in class C.\\nThis allows for code reuse and promotes modularity in programming. However, it's important to be cautious with multiple inheritance to avoid potential issues like the diamond problem.\\n\""
      ]
     },
     "execution_count": 4,
     "metadata": {},
     "output_type": "execute_result"
    }
   ],
   "source": [
    "# question 3 :\n",
    "\"\"\"\n",
    "Multiple inheritance is a feature in object-oriented programming languages where a class can inherit attributes and methods from more than one parent class. This means that a subclass can have multiple parent classes.\n",
    "\"\"\"\n",
    "class A:\n",
    "    def method_A(self):\n",
    "        print(\"Method from class A\")\n",
    "\n",
    "class B:\n",
    "    def method_B(self):\n",
    "        print(\"Method from class B\")\n",
    "\n",
    "class C(A, B):\n",
    "    def method_C(self):\n",
    "        print(\"Method from class C\")\n",
    "\n",
    "obj_C = C()\n",
    "\n",
    "obj_C.method_A()  \n",
    "obj_C.method_B()  \n",
    "obj_C.method_C()  \n",
    "\"\"\"\n",
    "In this example:\n",
    "\n",
    "Class C is inheriting from both class A and class B.\n",
    "As a result, the instance of class C (obj_C) has access to methods from both class A and class B, in addition to its own methods defined in class C.\n",
    "This allows for code reuse and promotes modularity in programming. However, it's important to be cautious with multiple inheritance to avoid potential issues like the diamond problem.\n",
    "\"\"\"\n"
   ]
  },
  {
   "cell_type": "code",
   "execution_count": 5,
   "id": "3bfacf27-33d8-4753-978b-30b66acfc50f",
   "metadata": {},
   "outputs": [
    {
     "name": "stdout",
     "output_type": "stream",
     "text": [
      "42\n"
     ]
    }
   ],
   "source": [
    "# question 4:\n",
    "\"\"\"\n",
    "\n",
    "In Python, getters and setters are methods used to access and modify the private attributes of a class respectively. They allow controlled access to the attributes, enabling encapsulation and data hiding.\n",
    "\"\"\"\n",
    "\n",
    "class MyClass:\n",
    "    def __init__(self):\n",
    "        self._my_attribute = None  \n",
    "\n",
    "    def get_my_attribute(self):\n",
    "        return self._my_attribute\n",
    "\n",
    "    def set_my_attribute(self, value):\n",
    "        self._my_attribute = value\n",
    "\n",
    "obj = MyClass()\n",
    "obj.set_my_attribute(42)\n",
    "print(obj.get_my_attribute())\n"
   ]
  },
  {
   "cell_type": "code",
   "execution_count": 6,
   "id": "85aa0ccf-5477-4c35-98e4-0312e3224c3f",
   "metadata": {},
   "outputs": [
    {
     "name": "stdout",
     "output_type": "stream",
     "text": [
      "Generic animal sound\n",
      "Woof\n"
     ]
    }
   ],
   "source": [
    "# question 5 :\n",
    "\"\"\"\n",
    "\n",
    "Method overriding in Python occurs when a subclass provides a specific implementation of a method that is already defined in its superclass. The overridden method in the subclass has the same name, signature, and return type as the method in the superclass. This allows the subclass to provide its own implementation of the method while still using inheritance.\n",
    "\"\"\"\n",
    "class Animal:\n",
    "    def make_sound(self):\n",
    "        print(\"Generic animal sound\")\n",
    "\n",
    "class Dog(Animal):\n",
    "    def make_sound(self):\n",
    "        print(\"Woof\")\n",
    "\n",
    "# Example usage:\n",
    "animal = Animal()\n",
    "animal.make_sound()\n",
    "\n",
    "dog = Dog()\n",
    "dog.make_sound() \n"
   ]
  },
  {
   "cell_type": "code",
   "execution_count": null,
   "id": "55edf5ab-5413-42a0-a574-3b99e272b8c4",
   "metadata": {},
   "outputs": [],
   "source": []
  }
 ],
 "metadata": {
  "kernelspec": {
   "display_name": "Python 3 (ipykernel)",
   "language": "python",
   "name": "python3"
  },
  "language_info": {
   "codemirror_mode": {
    "name": "ipython",
    "version": 3
   },
   "file_extension": ".py",
   "mimetype": "text/x-python",
   "name": "python",
   "nbconvert_exporter": "python",
   "pygments_lexer": "ipython3",
   "version": "3.10.8"
  }
 },
 "nbformat": 4,
 "nbformat_minor": 5
}
