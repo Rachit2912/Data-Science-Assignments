{
 "cells": [
  {
   "cell_type": "code",
   "execution_count": 2,
   "id": "08e6925f-3466-4f3f-b891-e1840747965e",
   "metadata": {},
   "outputs": [
    {
     "name": "stdout",
     "output_type": "stream",
     "text": [
      "List of odd numbers in the range 1 to 25: [1, 3, 5, 7, 9, 11, 13, 15, 17, 19, 21, 23, 25]\n"
     ]
    }
   ],
   "source": [
    "#1 question\n",
    "\n",
    "#In Python, the keyword used to create a function is def.\n",
    "def get_odd_numbers():\n",
    "    odd_numbers = [num for num in range(1, 26) if num % 2 != 0]\n",
    "    return odd_numbers\n",
    "\n",
    "# Call the function and print the result\n",
    "result = get_odd_numbers()\n",
    "print(\"List of odd numbers in the range 1 to 25:\", result)\n"
   ]
  },
  {
   "cell_type": "code",
   "execution_count": 3,
   "id": "cc593c1a-958f-4557-b752-a19a57de428e",
   "metadata": {},
   "outputs": [
    {
     "name": "stdout",
     "output_type": "stream",
     "text": [
      "Arguments ( *args ):  (1, 2, 3, 'four', 5.5)\n",
      "Argument: 1\n",
      "Argument: 2\n",
      "Argument: 3\n",
      "Argument: four\n",
      "Argument: 5.5\n",
      "\n",
      "==============================\n",
      "\n",
      "Keyword Arguments ( **kwargs ):  {'name': 'John', 'age': 25, 'city': 'New York'}\n",
      "name: John\n",
      "age: 25\n",
      "city: New York\n"
     ]
    }
   ],
   "source": [
    "#2 question\n",
    "'''\n",
    "*args is used to pass a variable number of non-keyword (positional) arguments to a function. It allows you to pass any number of arguments, and they will be wrapped up in a tuple.\n",
    "\n",
    "**kwargs is used to pass a variable number of keyword arguments (or named arguments) to a function. It allows you to pass any number of keyword arguments, and they will be wrapped up in a dictionary.\n",
    "'''\n",
    "# Example function using *args\n",
    "def example_function_args(*args):\n",
    "    print(\"Arguments ( *args ): \", args)\n",
    "    for arg in args:\n",
    "        print(\"Argument:\", arg)\n",
    "\n",
    "# Example function using **kwargs\n",
    "def example_function_kwargs(**kwargs):\n",
    "    print(\"Keyword Arguments ( **kwargs ): \", kwargs)\n",
    "    for key, value in kwargs.items():\n",
    "        print(f\"{key}: {value}\")\n",
    "\n",
    "# Calling functions with different arguments\n",
    "example_function_args(1, 2, 3, \"four\", 5.5)\n",
    "print(\"\\n\" + \"=\" * 30 + \"\\n\")\n",
    "example_function_kwargs(name=\"John\", age=25, city=\"New York\")\n"
   ]
  },
  {
   "cell_type": "code",
   "execution_count": 4,
   "id": "02ed9d58-f431-468f-9148-8a8b75b10237",
   "metadata": {},
   "outputs": [
    {
     "name": "stdout",
     "output_type": "stream",
     "text": [
      "First three elements of the list:\n",
      "1\n",
      "3\n",
      "5\n"
     ]
    }
   ],
   "source": [
    "#3 question\n",
    "'''\n",
    "An iterator in Python is like a tool that helps you go through a sequence of items (like a list) one by one. Think of it as a pointer that keeps track of where you are in the sequence.\n",
    "\n",
    "To use an iterator with a list, you first need to create it using the iter() method. Then, you can use the next() method to get the next item in the sequence\n",
    "\n",
    "'''\n",
    "# Creating a list\n",
    "numbers = [1, 3, 5, 7, 9]\n",
    "\n",
    "# Creating an iterator\n",
    "iterator = iter(numbers)\n",
    "\n",
    "# Iterating and printing the elements\n",
    "print(\"First three elements of the list:\")\n",
    "print(next(iterator))\n",
    "print(next(iterator))  \n",
    "print(next(iterator))  \n"
   ]
  },
  {
   "cell_type": "code",
   "execution_count": 9,
   "id": "44d18377-96de-4802-a212-471130efd572",
   "metadata": {},
   "outputs": [
    {
     "name": "stdout",
     "output_type": "stream",
     "text": [
      "0\n",
      "1\n",
      "4\n",
      "9\n",
      "16\n"
     ]
    }
   ],
   "source": [
    "#4 question\n",
    "\n",
    "#In Python, a generator function is a special type of function that allows you to iterate over a potentially large set of items without creating the entire set in memory at once. Generator functions use the yield keyword instead of return to produce a series of values during iteration.\n",
    "\n",
    "def square_generator(n):\n",
    "    for i in range(n):\n",
    "        yield i ** 2\n",
    "\n",
    "# Using the generator function\n",
    "my_generator = square_generator(5)\n",
    "\n",
    "# Iterating over the generator\n",
    "for square in my_generator:\n",
    "    print(square)\n"
   ]
  },
  {
   "cell_type": "code",
   "execution_count": 10,
   "id": "0a3ecace-6701-4662-a33b-2c803f439a80",
   "metadata": {},
   "outputs": [
    {
     "name": "stdout",
     "output_type": "stream",
     "text": [
      "First 20 prime numbers:\n",
      "2\n",
      "3\n",
      "5\n",
      "7\n",
      "11\n",
      "13\n",
      "17\n",
      "19\n",
      "23\n",
      "29\n",
      "31\n",
      "37\n",
      "41\n",
      "43\n",
      "47\n",
      "53\n",
      "59\n",
      "61\n",
      "67\n",
      "71\n"
     ]
    }
   ],
   "source": [
    "#5 question\n",
    "def generate_primes():\n",
    "    primes = []  \n",
    "    num = 2\n",
    "\n",
    "    while num < 1000:\n",
    "        is_prime = all(num % p != 0 for p in primes)\n",
    "        if is_prime:\n",
    "            yield num\n",
    "            primes.append(num)\n",
    "        num += 1\n",
    "\n",
    "prime_generator = generate_primes()\n",
    "\n",
    "print(\"First 20 prime numbers:\")\n",
    "for _ in range(20):\n",
    "    prime = next(prime_generator)\n",
    "    print(prime)\n"
   ]
  },
  {
   "cell_type": "code",
   "execution_count": 12,
   "id": "bf6a2de8-b274-47ae-8c70-ae39879b3402",
   "metadata": {},
   "outputs": [
    {
     "name": "stdout",
     "output_type": "stream",
     "text": [
      "First 10 Fibonacci numbers:\n",
      "0\n",
      "1\n",
      "1\n",
      "2\n",
      "3\n",
      "5\n",
      "8\n",
      "13\n",
      "21\n",
      "34\n"
     ]
    }
   ],
   "source": [
    "#6 question\n",
    "def fibonacci_sequence(n):\n",
    "    fib_numbers = []\n",
    "    a, b = 0, 1\n",
    "\n",
    "    while len(fib_numbers) < n:\n",
    "        fib_numbers.append(a)\n",
    "        a, b = b, a + b\n",
    "\n",
    "    return fib_numbers\n",
    "\n",
    "result = fibonacci_sequence(10)\n",
    "\n",
    "print(\"First 10 Fibonacci numbers:\")\n",
    "for fib_number in result:\n",
    "    print(fib_number)\n"
   ]
  },
  {
   "cell_type": "code",
   "execution_count": 16,
   "id": "1c450fdf-1854-4d54-b92b-a07fa29d3ba6",
   "metadata": {},
   "outputs": [
    {
     "data": {
      "text/plain": [
       "['p', 'w', 's', 'k', 'i', 'l', 'l', 's']"
      ]
     },
     "execution_count": 16,
     "metadata": {},
     "output_type": "execute_result"
    }
   ],
   "source": [
    "#7 question\n",
    "s = \"pwskills\"\n",
    "l=[i for i in s]\n",
    "l"
   ]
  },
  {
   "cell_type": "code",
   "execution_count": 17,
   "id": "4dfa0ca8-5f4d-4951-80b7-3d33d7974744",
   "metadata": {},
   "outputs": [
    {
     "name": "stdin",
     "output_type": "stream",
     "text": [
      "Enter a number:  123456\n"
     ]
    },
    {
     "name": "stdout",
     "output_type": "stream",
     "text": [
      "123456 is not a palindrome.\n"
     ]
    }
   ],
   "source": [
    "#8 question\n",
    "# Function to check if a number is a palindrome\n",
    "def is_palindrome(number):\n",
    "    original_number = number\n",
    "    reversed_number = 0\n",
    "\n",
    "    while number > 0:\n",
    "        digit = number % 10\n",
    "        reversed_number = (reversed_number * 10) + digit\n",
    "        number = number // 10\n",
    "\n",
    "    return original_number == reversed_number\n",
    "\n",
    "# Input a number from the user\n",
    "num = int(input(\"Enter a number: \"))\n",
    "\n",
    "# Check if the number is a palindrome\n",
    "if is_palindrome(num):\n",
    "    print(f\"{num} is a palindrome.\")\n",
    "else:\n",
    "    print(f\"{num} is not a palindrome.\")\n"
   ]
  },
  {
   "cell_type": "code",
   "execution_count": 18,
   "id": "907ac45d-3a40-4d35-9f45-87fd6738c329",
   "metadata": {},
   "outputs": [
    {
     "name": "stdout",
     "output_type": "stream",
     "text": [
      "Odd numbers from 1 to 100: [1, 3, 5, 7, 9, 11, 13, 15, 17, 19, 21, 23, 25, 27, 29, 31, 33, 35, 37, 39, 41, 43, 45, 47, 49, 51, 53, 55, 57, 59, 61, 63, 65, 67, 69, 71, 73, 75, 77, 79, 81, 83, 85, 87, 89, 91, 93, 95, 97, 99]\n"
     ]
    }
   ],
   "source": [
    "#9 question\n",
    "# List comprehension to generate odd numbers from 1 to 100\n",
    "odd_numbers = [num for num in range(1, 101) if num % 2 != 0]\n",
    "\n",
    "# Print the result\n",
    "print(\"Odd numbers from 1 to 100:\", odd_numbers)\n"
   ]
  },
  {
   "cell_type": "code",
   "execution_count": null,
   "id": "81eb5f62-d59d-4c98-9c40-75ad759fe5bf",
   "metadata": {},
   "outputs": [],
   "source": []
  }
 ],
 "metadata": {
  "kernelspec": {
   "display_name": "Python 3 (ipykernel)",
   "language": "python",
   "name": "python3"
  },
  "language_info": {
   "codemirror_mode": {
    "name": "ipython",
    "version": 3
   },
   "file_extension": ".py",
   "mimetype": "text/x-python",
   "name": "python",
   "nbconvert_exporter": "python",
   "pygments_lexer": "ipython3",
   "version": "3.10.8"
  }
 },
 "nbformat": 4,
 "nbformat_minor": 5
}
