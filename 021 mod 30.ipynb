{
 "cells": [
  {
   "cell_type": "code",
   "execution_count": null,
   "metadata": {},
   "outputs": [],
   "source": [
    "import requests\n",
    "from bs4 import BeautifulSoup\n",
    "import pandas as pd\n",
    "\n",
    "# Function to scrape video data from the YouTube channel\n",
    "def scrape_youtube_videos(url):\n",
    "    response = requests.get(url)\n",
    "    soup = BeautifulSoup(response.text, 'html.parser')\n",
    "\n",
    "    # Lists to hold the extracted data\n",
    "    video_urls = []\n",
    "    thumbnail_urls = []\n",
    "    titles = []\n",
    "    views = []\n",
    "    posting_times = []\n",
    "\n",
    "    # Find video elements\n",
    "    for video in soup.find_all('ytd-grid-video-renderer', limit=5):\n",
    "        # Extracting the video URL\n",
    "        video_link = 'https://www.youtube.com' + video.find('a', class_='yt-simple-endpoint style-scope ytd-grid-video-renderer')['href']\n",
    "        video_urls.append(video_link)\n",
    "\n",
    "        # Extracting the thumbnail URL\n",
    "        thumbnail_link = video.find('img')['src']\n",
    "        thumbnail_urls.append(thumbnail_link)\n",
    "\n",
    "        # Extracting the video title\n",
    "        title = video.find('h3', class_='title-and-badge style-scope ytd-grid-video-renderer').find('span').text\n",
    "        titles.append(title)\n",
    "\n",
    "        # Extracting the number of views\n",
    "        view_count = video.find('span', class_='style-scope ytd-grid-video-renderer').text\n",
    "        views.append(view_count)\n",
    "\n",
    "        # Extracting the time of posting\n",
    "        time_posted = video.find('div', class_='style-scope ytd-grid-video-renderer').find_all('span')[1].text\n",
    "        posting_times.append(time_posted)\n",
    "\n",
    "    # Creating a DataFrame\n",
    "    data = {\n",
    "        'Title': titles,\n",
    "        'Video URL': video_urls,\n",
    "        'Thumbnail URL': thumbnail_urls,\n",
    "        'Views': views,\n",
    "        'Posting Time': posting_times\n",
    "    }\n",
    "    df = pd.DataFrame(data)\n",
    "\n",
    "    # Saving the data to a CSV file\n",
    "    df.to_csv('youtube_video_data.csv', index=False)\n",
    "\n",
    "# URL of the YouTube channel\n",
    "youtube_url = \"https://www.youtube.com/@PW-Foundation/videos\"\n",
    "scrape_youtube_videos(youtube_url)\n"
   ]
  }
 ],
 "metadata": {
  "kernelspec": {
   "display_name": "Python 3",
   "language": "python",
   "name": "python3"
  },
  "language_info": {
   "codemirror_mode": {
    "name": "ipython",
    "version": 3
   },
   "file_extension": ".py",
   "mimetype": "text/x-python",
   "name": "python",
   "nbconvert_exporter": "python",
   "pygments_lexer": "ipython3",
   "version": "3.10.11"
  }
 },
 "nbformat": 4,
 "nbformat_minor": 2
}
