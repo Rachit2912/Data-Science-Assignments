{
 "cells": [
  {
   "cell_type": "code",
   "execution_count": null,
   "metadata": {},
   "outputs": [],
   "source": [
    "'''\n",
    "\n",
    "### Q1. What is an API? Give an example where an API is used in real life.\n",
    "An **API (Application Programming Interface)** allows different software systems to communicate with each other by exposing specific functionalities.\n",
    "\n",
    "**Example**: Payment gateways (like PayPal API) enable e-commerce sites to process transactions without handling sensitive payment details directly.\n",
    "\n",
    "---\n",
    "\n",
    "### Q2. Advantages and Disadvantages of Using API\n",
    "**Advantages**:\n",
    "- **Automation**: Enables interaction between systems without manual input.\n",
    "- **Efficiency**: Allows data exchange between platforms, speeding up development.\n",
    "- **Scalability**: Facilitates integration of third-party services.\n",
    "\n",
    "**Disadvantages**:\n",
    "- **Security risks**: If not secured, APIs can expose sensitive data.\n",
    "- **Maintenance**: Requires updates as systems evolve.\n",
    "- **Complexity**: Proper API design and documentation are needed.\n",
    "\n",
    "---\n",
    "\n",
    "### Q3. What is a Web API? Differentiate between API and Web API.\n",
    "A **Web API** is an API that is accessed over the internet using HTTP/HTTPS protocols.\n",
    "\n",
    "**Difference**:\n",
    "- **API**: Can be used across various platforms (OS-level, libraries, etc.).\n",
    "- **Web API**: Specifically accessed via web technologies, typically over HTTP.\n",
    "\n",
    "---\n",
    "\n",
    "### Q4. REST and SOAP Architecture. Shortcomings of SOAP.\n",
    "- **REST (Representational State Transfer)**: Uses standard HTTP methods (GET, POST) and focuses on resources.\n",
    "- **SOAP (Simple Object Access Protocol)**: Uses XML for communication and requires strict messaging rules.\n",
    "\n",
    "**SOAP Shortcomings**:\n",
    "- More complex and slower due to heavy XML payloads.\n",
    "- Requires strict standards and more bandwidth.\n",
    "\n",
    "---\n",
    "\n",
    "### Q5. Difference between REST and SOAP\n",
    "- **REST**: Lightweight, uses JSON or XML, faster, stateless.\n",
    "- **SOAP**: XML-based, heavyweight, follows strict standards, supports stateful operations.\n",
    "\n",
    "'''"
   ]
  }
 ],
 "metadata": {
  "language_info": {
   "name": "python"
  }
 },
 "nbformat": 4,
 "nbformat_minor": 2
}
