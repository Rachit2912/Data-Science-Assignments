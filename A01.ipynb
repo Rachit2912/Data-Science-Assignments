{
 "cells": [
  {
   "cell_type": "code",
   "execution_count": null,
   "id": "01c0f892-d00f-40a6-b929-63afba04a165",
   "metadata": {},
   "outputs": [],
   "source": [
    "Guido van Rossum "
   ]
  },
  {
   "cell_type": "code",
   "execution_count": null,
   "id": "ff6941af-d1b6-4ead-9b7d-e96a1125b9f4",
   "metadata": {},
   "outputs": [],
   "source": [
    "Object-oriented & Structured Programming"
   ]
  },
  {
   "cell_type": "code",
   "execution_count": null,
   "id": "acc286d1-95dd-4348-99ef-20a265eb9866",
   "metadata": {},
   "outputs": [],
   "source": [
    "Yes"
   ]
  },
  {
   "cell_type": "code",
   "execution_count": null,
   "id": "341b655f-f936-46ed-8374-8cb158bf6908",
   "metadata": {},
   "outputs": [],
   "source": [
    ".py"
   ]
  },
  {
   "cell_type": "code",
   "execution_count": null,
   "id": "fcea4322-82e6-4adf-a1cc-e67446d88ff7",
   "metadata": {},
   "outputs": [],
   "source": [
    "Interpreted"
   ]
  },
  {
   "cell_type": "code",
   "execution_count": null,
   "id": "595348d6-f725-4957-9759-bf5fa0cb1932",
   "metadata": {},
   "outputs": [],
   "source": [
    "Identation"
   ]
  },
  {
   "cell_type": "code",
   "execution_count": null,
   "id": "86650de6-09fb-4646-b9ff-b0f3a52d26ee",
   "metadata": {},
   "outputs": [],
   "source": [
    "#"
   ]
  },
  {
   "cell_type": "code",
   "execution_count": null,
   "id": "f123d7fd-5f08-48db-94f5-9be0c5b1a304",
   "metadata": {},
   "outputs": [],
   "source": [
    "1)  import sys\n",
    "    sys.version\n",
    "2)  open command line\n",
    "    type 'python --version'"
   ]
  },
  {
   "cell_type": "code",
   "execution_count": null,
   "id": "b2b609f3-7be7-48a2-838c-824356fc1acf",
   "metadata": {},
   "outputs": [],
   "source": [
    "Lambda "
   ]
  },
  {
   "cell_type": "code",
   "execution_count": null,
   "id": "ab9e572a-6ad3-498a-8aa6-9100d0b74621",
   "metadata": {},
   "outputs": [],
   "source": [
    "preferred installer program"
   ]
  },
  {
   "cell_type": "code",
   "execution_count": null,
   "id": "f36027a1-f2d3-4f4a-be19-ee9dfbea8c18",
   "metadata": {},
   "outputs": [],
   "source": [
    "complex(), len(), print(), input()"
   ]
  },
  {
   "cell_type": "code",
   "execution_count": null,
   "id": "1475b56f-5dd7-4910-b906-f5b8ff4b49f8",
   "metadata": {},
   "outputs": [],
   "source": [
    "79 characters"
   ]
  },
  {
   "cell_type": "code",
   "execution_count": null,
   "id": "949ed7e7-c381-4779-80b1-2b7d6cafff6a",
   "metadata": {},
   "outputs": [],
   "source": [
    "Used in various fields:\n",
    "Data science\n",
    "Scientific and mathematical computing\n",
    "Web development\n",
    "Finance and trading\n",
    "System automation and administration\n",
    "Computer graphics\n",
    "Basic game development\n",
    "Security and penetration testing"
   ]
  },
  {
   "cell_type": "code",
   "execution_count": null,
   "id": "43a3820e-ca95-42a1-a547-b703219b79c7",
   "metadata": {},
   "outputs": [],
   "source": [
    "Memory management in Python involves a private heap containing all Python objects and data structures. \n",
    "The management of this private heap is ensured internally by the Python memory manager."
   ]
  },
  {
   "cell_type": "code",
   "execution_count": null,
   "id": "54e183a7-6edc-40f1-adae-d28bde4ff942",
   "metadata": {},
   "outputs": [],
   "source": [
    "The complete path of python.exe can be added by:\n",
    "1) Right-clicking This PC and going to Properties.\n",
    "2) Clicking on the Advanced system settings in the menu on the left.\n",
    "3) Clicking on the Environment Variables button o​n the bottom right.\n",
    "4) In the System variables section, selecting the Path variable and clicking on Edit. The next screen will show all the directories that are currently a part of the PATH variable.\n",
    "5) Clicking on New and entering Python’s install directory."
   ]
  },
  {
   "cell_type": "code",
   "execution_count": null,
   "id": "bbc99381-ef6d-4637-b4f2-ad3c7d11c50b",
   "metadata": {},
   "outputs": [],
   "source": [
    "Yes, it's important"
   ]
  }
 ],
 "metadata": {
  "kernelspec": {
   "display_name": "Python 3 (ipykernel)",
   "language": "python",
   "name": "python3"
  },
  "language_info": {
   "codemirror_mode": {
    "name": "ipython",
    "version": 3
   },
   "file_extension": ".py",
   "mimetype": "text/x-python",
   "name": "python",
   "nbconvert_exporter": "python",
   "pygments_lexer": "ipython3",
   "version": "3.10.8"
  }
 },
 "nbformat": 4,
 "nbformat_minor": 5
}
