{
 "cells": [
  {
   "cell_type": "code",
   "execution_count": 2,
   "id": "c07c08e8-6767-48c5-9a38-b65707203000",
   "metadata": {},
   "outputs": [
    {
     "data": {
      "text/plain": [
       "\"\\n1.\\nMultithreading in Python is a way to run multiple threads (smaller units of a process) concurrently within a program. It's used to perform tasks simultaneously, improving performance for I/O-bound tasks.\\n\\nThe module used to handle threads in Python is threading.\\n\""
      ]
     },
     "execution_count": 2,
     "metadata": {},
     "output_type": "execute_result"
    }
   ],
   "source": [
    "'''\n",
    "1.\n",
    "Multithreading in Python is a way to run multiple threads (smaller units of a process) concurrently within a program. It's used to perform tasks simultaneously, improving performance for I/O-bound tasks.\n",
    "\n",
    "The module used to handle threads in Python is threading.\n",
    "'''"
   ]
  },
  {
   "cell_type": "code",
   "execution_count": 3,
   "id": "a24466ac-e543-4bc7-846a-07b117e47b4d",
   "metadata": {},
   "outputs": [
    {
     "data": {
      "text/plain": [
       "'\\n2.\\nThe threading module is used to create and manage threads in Python, allowing for concurrent execution of tasks.\\n\\nactiveCount(): Returns the number of currently active threads.\\ncurrentThread(): Returns the current thread object, representing the thread from which it was called.\\nenumerate(): Returns a list of all currently active thread objects.\\n'"
      ]
     },
     "execution_count": 3,
     "metadata": {},
     "output_type": "execute_result"
    }
   ],
   "source": [
    "'''\n",
    "2.\n",
    "The threading module is used to create and manage threads in Python, allowing for concurrent execution of tasks.\n",
    "\n",
    "activeCount(): Returns the number of currently active threads.\n",
    "currentThread(): Returns the current thread object, representing the thread from which it was called.\n",
    "enumerate(): Returns a list of all currently active thread objects.\n",
    "'''"
   ]
  },
  {
   "cell_type": "code",
   "execution_count": 4,
   "id": "ccdf4003-47c5-4efe-a2fe-60c315741a5b",
   "metadata": {},
   "outputs": [
    {
     "data": {
      "text/plain": [
       "\" \\n3. \\nrun(): Defines the task that the thread will execute. It is typically overridden in a subclass of Thread.\\nstart(): Begins the thread's activity by calling the run() method in a separate thread of control.\\njoin(): Waits for the thread to finish its execution before proceeding with the rest of the program.\\nisAlive(): Checks if a thread is still running (i.e., active). Returns True if the thread is alive, otherwise False.\\n\""
      ]
     },
     "execution_count": 4,
     "metadata": {},
     "output_type": "execute_result"
    }
   ],
   "source": [
    "''' \n",
    "3. \n",
    "run(): Defines the task that the thread will execute. It is typically overridden in a subclass of Thread.\n",
    "start(): Begins the thread's activity by calling the run() method in a separate thread of control.\n",
    "join(): Waits for the thread to finish its execution before proceeding with the rest of the program.\n",
    "isAlive(): Checks if a thread is still running (i.e., active). Returns True if the thread is alive, otherwise False.\n",
    "'''"
   ]
  },
  {
   "cell_type": "code",
   "execution_count": 5,
   "id": "fd164cdd-ce73-49a7-b995-f4a79db23141",
   "metadata": {},
   "outputs": [
    {
     "name": "stdout",
     "output_type": "stream",
     "text": [
      "Square of 1: 1\n",
      "Square of 2: 4\n",
      "Square of 3: 9\n",
      "Square of 4: 16\n",
      "Square of 5: 25\n",
      "Cube of 1: 1\n",
      "Cube of 2: 8\n",
      "Cube of 3: 27\n",
      "Cube of 4: 64\n",
      "Cube of 5: 125\n",
      "Both threads finished execution.\n"
     ]
    }
   ],
   "source": [
    "# 4.\n",
    "import threading\n",
    "\n",
    "def print_squares(numbers):\n",
    "    for num in numbers:\n",
    "        print(f\"Square of {num}: {num ** 2}\")\n",
    "\n",
    "def print_cubes(numbers):\n",
    "    for num in numbers:\n",
    "        print(f\"Cube of {num}: {num ** 3}\")\n",
    "\n",
    "numbers = [1, 2, 3, 4, 5]\n",
    "\n",
    "thread1 = threading.Thread(target=print_squares, args=(numbers,))\n",
    "thread2 = threading.Thread(target=print_cubes, args=(numbers,))\n",
    "\n",
    "thread1.start()\n",
    "thread2.start()\n",
    "\n",
    "print(\"Both threads finished execution.\")\n"
   ]
  },
  {
   "cell_type": "code",
   "execution_count": 7,
   "id": "5ab5fddb-c7fa-4c27-878f-6401f0f5e3aa",
   "metadata": {},
   "outputs": [
    {
     "data": {
      "text/plain": [
       "'\\n5.\\nAdvantages of Multithreading:\\n1. Improved performance for I/O-bound tasks (e.g., file I/O, network requests).\\n2. Concurrency: Multiple threads can run simultaneously, improving responsiveness.\\n3. Resource sharing: Threads share the same memory space, reducing overhead.\\n4. Efficient CPU utilization: Allows better CPU usage in multicore systems.\\n\\nDisadvantages of Multithreading:\\n1. Global Interpreter Lock (GIL) in Python limits true parallelism for CPU-bound tasks.\\n2. Complexity: Managing multiple threads can be challenging and error-prone.\\n3. Race conditions: Threads can interfere with each other if not synchronized properly.\\n4. Debugging difficulty: Multithreaded programs are harder to debug and test.\\n'"
      ]
     },
     "execution_count": 7,
     "metadata": {},
     "output_type": "execute_result"
    }
   ],
   "source": [
    "'''\n",
    "5.\n",
    "Advantages of Multithreading:\n",
    "1. Improved performance for I/O-bound tasks (e.g., file I/O, network requests).\n",
    "2. Concurrency: Multiple threads can run simultaneously, improving responsiveness.\n",
    "3. Resource sharing: Threads share the same memory space, reducing overhead.\n",
    "4. Efficient CPU utilization: Allows better CPU usage in multicore systems.\n",
    "\n",
    "Disadvantages of Multithreading:\n",
    "1. Global Interpreter Lock (GIL) in Python limits true parallelism for CPU-bound tasks.\n",
    "2. Complexity: Managing multiple threads can be challenging and error-prone.\n",
    "3. Race conditions: Threads can interfere with each other if not synchronized properly.\n",
    "4. Debugging difficulty: Multithreaded programs are harder to debug and test.\n",
    "'''"
   ]
  },
  {
   "cell_type": "code",
   "execution_count": 8,
   "id": "285cb542-0747-4e0c-8502-259fe8c2f599",
   "metadata": {},
   "outputs": [
    {
     "data": {
      "text/plain": [
       "'\\n6.\\n- **Deadlock**: A situation where two or more threads are blocked forever, waiting for each other to release resources. For example, Thread A holds Resource 1 and waits for Resource 2, while Thread B holds Resource 2 and waits for Resource 1, causing a circular wait and thus a deadlock.\\n\\n- **Race Condition**: Occurs when two or more threads access shared resources concurrently, and the outcome depends on the timing of their execution. This can lead to inconsistent or incorrect results if proper synchronization is not used.\\n'"
      ]
     },
     "execution_count": 8,
     "metadata": {},
     "output_type": "execute_result"
    }
   ],
   "source": [
    "'''\n",
    "6.\n",
    "- **Deadlock**: A situation where two or more threads are blocked forever, waiting for each other to release resources. For example, Thread A holds Resource 1 and waits for Resource 2, while Thread B holds Resource 2 and waits for Resource 1, causing a circular wait and thus a deadlock.\n",
    "\n",
    "- **Race Condition**: Occurs when two or more threads access shared resources concurrently, and the outcome depends on the timing of their execution. This can lead to inconsistent or incorrect results if proper synchronization is not used.\n",
    "'''"
   ]
  }
 ],
 "metadata": {
  "kernelspec": {
   "display_name": "Python 3 (ipykernel)",
   "language": "python",
   "name": "python3"
  },
  "language_info": {
   "codemirror_mode": {
    "name": "ipython",
    "version": 3
   },
   "file_extension": ".py",
   "mimetype": "text/x-python",
   "name": "python",
   "nbconvert_exporter": "python",
   "pygments_lexer": "ipython3",
   "version": "3.10.8"
  }
 },
 "nbformat": 4,
 "nbformat_minor": 5
}
