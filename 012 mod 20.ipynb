{
 "cells": [
  {
   "cell_type": "code",
   "execution_count": null,
   "id": "e80255d1-d672-4d97-9214-ebc17e8e0428",
   "metadata": {},
   "outputs": [],
   "source": [
    "'''\n",
    "\n",
    "Sure!\n",
    "\n",
    "- **Exception**: An error that occurs during the execution of a program, which can be handled using `try` and `except` blocks.\n",
    "  \n",
    "- **Syntax Error**: An error in the structure of the code that prevents the program from running.\n",
    "\n",
    "**Difference**:  \n",
    "- Syntax errors occur before the program runs, while exceptions occur during execution.\n",
    "'''"
   ]
  },
  {
   "cell_type": "code",
   "execution_count": null,
   "id": "6b7f4d79-224f-47b6-8076-578694bbb4b7",
   "metadata": {},
   "outputs": [],
   "source": [
    "#When an exception is not handled, the program will terminate immediately, and Python will display a traceback, which is a report of the sequence of events leading up to the error.\n",
    "\n",
    "### Example:\n",
    "\n",
    "def divide(a, b):\n",
    "    return a / b\n",
    "\n",
    "print(divide(10, 0))\n",
    "\n",
    "\n",
    "#In this example, dividing by zero raises a `ZeroDivisionError`. Since there is no `try-except` block to handle it, the program crashes, and Python displays an error message like this:\n",
    "\n",
    "\n",
    "#So, if an exception isn't handled, the program stops running, and the error details are shown in the output."
   ]
  },
  {
   "cell_type": "code",
   "execution_count": null,
   "id": "5f0feb1e-7703-4695-8f8a-b628537ba2e2",
   "metadata": {},
   "outputs": [],
   "source": [
    "#In Python, the `try`, `except`, `else`, and `finally` statements are used to catch and handle exceptions.\n",
    "\n",
    "### Example:\n",
    "\n",
    "try:\n",
    "    result = 10 / 0  # This will raise an exception\n",
    "except ZeroDivisionError:\n",
    "    print(\"You can't divide by zero!\")\n",
    "else:\n",
    "    print(\"Division was successful.\")\n",
    "finally:\n",
    "    print(\"This block runs no matter what.\")\n",
    "\n",
    "### Explanation:\n",
    "#- **`try` block**: Contains the code that might raise an exception.\n",
    "#- **`except` block**: Handles the exception if one occurs.\n",
    "#- **`else` block**: Executes if no exceptions were raised in the `try` block.\n",
    "#- **`finally` block**: Executes regardless of whether an exception occurred or not, often used for cleanup.\n",
    "\n"
   ]
  },
  {
   "cell_type": "code",
   "execution_count": 3,
   "id": "f08480e9-6639-4b93-b65c-fda03800f1ea",
   "metadata": {},
   "outputs": [
    {
     "name": "stdout",
     "output_type": "stream",
     "text": [
      "Division was successful. Result: 5.0\n",
      "Execution completed.\n",
      "Division by zero is not allowed.\n",
      "Execution completed.\n"
     ]
    },
    {
     "ename": "ZeroDivisionError",
     "evalue": "division by zero",
     "output_type": "error",
     "traceback": [
      "\u001b[0;31m---------------------------------------------------------------------------\u001b[0m",
      "\u001b[0;31mZeroDivisionError\u001b[0m                         Traceback (most recent call last)",
      "Cell \u001b[0;32mIn[3], line 20\u001b[0m\n\u001b[1;32m     17\u001b[0m divide(\u001b[38;5;241m10\u001b[39m, \u001b[38;5;241m2\u001b[39m)\n\u001b[1;32m     19\u001b[0m \u001b[38;5;66;03m# Test with division by zero\u001b[39;00m\n\u001b[0;32m---> 20\u001b[0m \u001b[43mdivide\u001b[49m\u001b[43m(\u001b[49m\u001b[38;5;241;43m10\u001b[39;49m\u001b[43m,\u001b[49m\u001b[43m \u001b[49m\u001b[38;5;241;43m0\u001b[39;49m\u001b[43m)\u001b[49m\n",
      "Cell \u001b[0;32mIn[3], line 4\u001b[0m, in \u001b[0;36mdivide\u001b[0;34m(a, b)\u001b[0m\n\u001b[1;32m      1\u001b[0m \u001b[38;5;28;01mdef\u001b[39;00m \u001b[38;5;21mdivide\u001b[39m(a, b):\n\u001b[1;32m      2\u001b[0m     \u001b[38;5;28;01mtry\u001b[39;00m:\n\u001b[1;32m      3\u001b[0m         \u001b[38;5;66;03m# Attempt to divide the numbers\u001b[39;00m\n\u001b[0;32m----> 4\u001b[0m         result \u001b[38;5;241m=\u001b[39m \u001b[43ma\u001b[49m\u001b[43m \u001b[49m\u001b[38;5;241;43m/\u001b[39;49m\u001b[43m \u001b[49m\u001b[43mb\u001b[49m\n\u001b[1;32m      5\u001b[0m     \u001b[38;5;28;01mexcept\u001b[39;00m \u001b[38;5;167;01mZeroDivisionError\u001b[39;00m:\n\u001b[1;32m      6\u001b[0m         \u001b[38;5;66;03m# Handle division by zero exception\u001b[39;00m\n\u001b[1;32m      7\u001b[0m         \u001b[38;5;28mprint\u001b[39m(\u001b[38;5;124m\"\u001b[39m\u001b[38;5;124mDivision by zero is not allowed.\u001b[39m\u001b[38;5;124m\"\u001b[39m)\n",
      "\u001b[0;31mZeroDivisionError\u001b[0m: division by zero"
     ]
    }
   ],
   "source": [
    "def divide(a, b):\n",
    "    try:\n",
    "        # Attempt to divide the numbers\n",
    "        result = a / b\n",
    "    except ZeroDivisionError:\n",
    "        # Handle division by zero exception\n",
    "        print(\"Division by zero is not allowed.\")\n",
    "        raise  # Re-raise the exception to propagate it further\n",
    "    else:\n",
    "        # Executes if no exception occurs in try block\n",
    "        print(\"Division was successful. Result:\", result)\n",
    "    finally:\n",
    "        # Executes regardless of whether an exception occurred or not\n",
    "        print(\"Execution completed.\")\n",
    "\n",
    "# Test with valid division\n",
    "divide(10, 2)\n",
    "\n",
    "# Test with division by zero\n",
    "divide(10, 0)\n"
   ]
  },
  {
   "cell_type": "code",
   "execution_count": 4,
   "id": "74ab95c5-e69f-414f-ae14-b9577302b7cb",
   "metadata": {},
   "outputs": [
    {
     "name": "stdout",
     "output_type": "stream",
     "text": [
      "Error: Negative numbers are not allowed. You provided -9.\n"
     ]
    }
   ],
   "source": [
    "# Custom Exceptions in Python are user-defined exceptions that allow you to create specific error types\n",
    "# tailored to your application's needs. They are useful when you need more meaningful and precise error handling.\n",
    "\n",
    "# Defining a custom exception\n",
    "class NegativeNumberError(Exception):\n",
    "    \"\"\"Exception raised for errors in the input when a negative number is provided.\"\"\"\n",
    "    def __init__(self, number, message=\"Negative numbers are not allowed\"):\n",
    "        self.number = number\n",
    "        self.message = message\n",
    "        super().__init__(self.message)\n",
    "\n",
    "# Function that uses the custom exception\n",
    "def square_root(number):\n",
    "    if number < 0:\n",
    "        # Raise the custom exception if the input is negative\n",
    "        raise NegativeNumberError(number)\n",
    "    else:\n",
    "        return number ** 0.5\n",
    "\n",
    "# Example usage\n",
    "\n",
    "try:\n",
    "    result = square_root(-9)\n",
    "except NegativeNumberError as e:\n",
    "    print(f\"Error: {e.message}. You provided {e.number}.\")\n",
    "else:\n",
    "    print(f\"The square root is {result}\")\n",
    "\n",
    "# Output will be:\n",
    "# Error: Negative numbers are not allowed. You provided -9.\n"
   ]
  },
  {
   "cell_type": "code",
   "execution_count": 5,
   "id": "3a77e57a-cd72-413a-8977-a5d927137e8d",
   "metadata": {},
   "outputs": [
    {
     "name": "stdout",
     "output_type": "stream",
     "text": [
      "Error: You must be at least 18 years old to vote.. Your age: 16.\n"
     ]
    }
   ],
   "source": [
    "# Creating a custom exception class\n",
    "class AgeTooYoungError(Exception):\n",
    "    \"\"\"Exception raised when the provided age is too young for a specific requirement.\"\"\"\n",
    "    def __init__(self, age, message=\"Age is too young\"):\n",
    "        self.age = age\n",
    "        self.message = message\n",
    "        super().__init__(self.message)\n",
    "\n",
    "# Function that uses the custom exception\n",
    "def check_age_for_voting(age):\n",
    "    if age < 18:\n",
    "        # Raise the custom exception if the age is less than 18\n",
    "        raise AgeTooYoungError(age, \"You must be at least 18 years old to vote.\")\n",
    "    else:\n",
    "        return \"You are eligible to vote.\"\n",
    "\n",
    "# Example usage\n",
    "\n",
    "try:\n",
    "    eligibility = check_age_for_voting(16)\n",
    "except AgeTooYoungError as e:\n",
    "    print(f\"Error: {e.message}. Your age: {e.age}.\")\n",
    "else:\n",
    "    print(eligibility)\n",
    "\n",
    "# Output will be:\n",
    "# Error: You must be at least 18 years old to vote. Your age: 16.\n"
   ]
  }
 ],
 "metadata": {
  "kernelspec": {
   "display_name": "Python 3 (ipykernel)",
   "language": "python",
   "name": "python3"
  },
  "language_info": {
   "codemirror_mode": {
    "name": "ipython",
    "version": 3
   },
   "file_extension": ".py",
   "mimetype": "text/x-python",
   "name": "python",
   "nbconvert_exporter": "python",
   "pygments_lexer": "ipython3",
   "version": "3.10.8"
  }
 },
 "nbformat": 4,
 "nbformat_minor": 5
}
