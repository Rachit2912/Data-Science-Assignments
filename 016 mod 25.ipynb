{
 "cells": [
  {
   "cell_type": "code",
   "execution_count": 2,
   "metadata": {},
   "outputs": [
    {
     "data": {
      "text/plain": [
       "'\\n### Q1. What is MongoDB? Explain non-relational databases in short. In which scenarios is it preferred to use MongoDB over SQL databases?\\n\\n**MongoDB** is a NoSQL, document-oriented database that stores data in flexible, JSON-like documents. Non-relational databases like MongoDB don’t require fixed schemas and can handle unstructured data, making them highly scalable.\\n\\n**Use MongoDB over SQL** when:\\n- Data is unstructured or semi-structured.\\n- The application requires rapid prototyping.\\n- Horizontal scaling and high throughput are needed.\\n- There\\'s frequent schema evolution or flexible data models are required.\\n\\n---\\n\\n### Q2. Features of MongoDB\\n- **Document-Oriented**: Stores data in BSON (Binary JSON) format.\\n- **Schema-less**: Flexible data models with no strict schema.\\n- **Scalability**: Horizontal scaling with sharding.\\n- **High Performance**: Fast reads/writes due to in-memory storage engine.\\n- **Indexing**: Supports complex indexing for faster query processing.\\n- **Replication**: Data replication using replica sets for fault tolerance.\\n- **Aggregation**: Rich querying and aggregation framework.\\n\\n---\\n\\n### Q3. Code to Connect MongoDB to Python and Create Database and Collection\\n```python\\nfrom pymongo import MongoClient\\n\\n# Connect to MongoDB\\nclient = MongoClient(\\'mongodb://localhost:27017/\\')\\n\\n# Create a database\\ndb = client[\\'mydatabase\\']\\n\\n# Create a collection\\ncollection = db[\\'mycollection\\']\\n```\\n\\n---\\n\\n### Q4. Insert Records and Use `find()` and `find_one()` to Print\\n```python\\n# Insert one record\\nrecord = {\"name\": \"John\", \"age\": 25}\\ncollection.insert_one(record)\\n\\n# Insert many records\\nrecords = [{\"name\": \"Alice\", \"age\": 30}, {\"name\": \"Bob\", \"age\": 22}]\\ncollection.insert_many(records)\\n\\n# Find and print records\\nprint(collection.find_one({\"name\": \"John\"}))\\nfor doc in collection.find():\\n    print(doc)\\n```\\n\\n---\\n\\n### Q5. Querying MongoDB with `find()`\\nThe `find()` method retrieves multiple documents matching a query.\\n```python\\n# Find all documents where age is greater than 24\\nresults = collection.find({\"age\": {\"$gt\": 24}})\\nfor doc in results:\\n    print(doc)\\n```\\n\\n---\\n\\n### Q6. The `sort()` Method in MongoDB\\nThe `sort()` method is used to sort query results.\\n```python\\n# Sort by age in descending order\\nresults = collection.find().sort(\"age\", -1)\\nfor doc in results:\\n    print(doc)\\n```\\n\\n---\\n\\n### Q7. Explanation of `delete_one()`, `delete_many()`, and `drop()`\\n- **`delete_one()`**: Deletes the first matching document.\\n- **`delete_many()`**: Deletes all matching documents.\\n- **`drop()`**: Completely removes a collection from the database.\\n'"
      ]
     },
     "execution_count": 2,
     "metadata": {},
     "output_type": "execute_result"
    }
   ],
   "source": [
    "'''\n",
    "### Q1. What is MongoDB? Explain non-relational databases in short. In which scenarios is it preferred to use MongoDB over SQL databases?\n",
    "\n",
    "**MongoDB** is a NoSQL, document-oriented database that stores data in flexible, JSON-like documents. Non-relational databases like MongoDB don’t require fixed schemas and can handle unstructured data, making them highly scalable.\n",
    "\n",
    "**Use MongoDB over SQL** when:\n",
    "- Data is unstructured or semi-structured.\n",
    "- The application requires rapid prototyping.\n",
    "- Horizontal scaling and high throughput are needed.\n",
    "- There's frequent schema evolution or flexible data models are required.\n",
    "\n",
    "---\n",
    "\n",
    "### Q2. Features of MongoDB\n",
    "- **Document-Oriented**: Stores data in BSON (Binary JSON) format.\n",
    "- **Schema-less**: Flexible data models with no strict schema.\n",
    "- **Scalability**: Horizontal scaling with sharding.\n",
    "- **High Performance**: Fast reads/writes due to in-memory storage engine.\n",
    "- **Indexing**: Supports complex indexing for faster query processing.\n",
    "- **Replication**: Data replication using replica sets for fault tolerance.\n",
    "- **Aggregation**: Rich querying and aggregation framework.\n",
    "\n",
    "---\n",
    "\n",
    "### Q3. Code to Connect MongoDB to Python and Create Database and Collection\n",
    "```python\n",
    "from pymongo import MongoClient\n",
    "\n",
    "# Connect to MongoDB\n",
    "client = MongoClient('mongodb://localhost:27017/')\n",
    "\n",
    "# Create a database\n",
    "db = client['mydatabase']\n",
    "\n",
    "# Create a collection\n",
    "collection = db['mycollection']\n",
    "```\n",
    "\n",
    "---\n",
    "\n",
    "### Q4. Insert Records and Use `find()` and `find_one()` to Print\n",
    "```python\n",
    "# Insert one record\n",
    "record = {\"name\": \"John\", \"age\": 25}\n",
    "collection.insert_one(record)\n",
    "\n",
    "# Insert many records\n",
    "records = [{\"name\": \"Alice\", \"age\": 30}, {\"name\": \"Bob\", \"age\": 22}]\n",
    "collection.insert_many(records)\n",
    "\n",
    "# Find and print records\n",
    "print(collection.find_one({\"name\": \"John\"}))\n",
    "for doc in collection.find():\n",
    "    print(doc)\n",
    "```\n",
    "\n",
    "---\n",
    "\n",
    "### Q5. Querying MongoDB with `find()`\n",
    "The `find()` method retrieves multiple documents matching a query.\n",
    "```python\n",
    "# Find all documents where age is greater than 24\n",
    "results = collection.find({\"age\": {\"$gt\": 24}})\n",
    "for doc in results:\n",
    "    print(doc)\n",
    "```\n",
    "\n",
    "---\n",
    "\n",
    "### Q6. The `sort()` Method in MongoDB\n",
    "The `sort()` method is used to sort query results.\n",
    "```python\n",
    "# Sort by age in descending order\n",
    "results = collection.find().sort(\"age\", -1)\n",
    "for doc in results:\n",
    "    print(doc)\n",
    "```\n",
    "\n",
    "---\n",
    "\n",
    "### Q7. Explanation of `delete_one()`, `delete_many()`, and `drop()`\n",
    "- **`delete_one()`**: Deletes the first matching document.\n",
    "- **`delete_many()`**: Deletes all matching documents.\n",
    "- **`drop()`**: Completely removes a collection from the database.\n",
    "'''"
   ]
  },
  {
   "cell_type": "code",
   "execution_count": null,
   "metadata": {},
   "outputs": [],
   "source": []
  }
 ],
 "metadata": {
  "kernelspec": {
   "display_name": "Python 3",
   "language": "python",
   "name": "python3"
  },
  "language_info": {
   "codemirror_mode": {
    "name": "ipython",
    "version": 3
   },
   "file_extension": ".py",
   "mimetype": "text/x-python",
   "name": "python",
   "nbconvert_exporter": "python",
   "pygments_lexer": "ipython3",
   "version": "3.10.11"
  }
 },
 "nbformat": 4,
 "nbformat_minor": 2
}
