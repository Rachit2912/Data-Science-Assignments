{
 "cells": [
  {
   "cell_type": "code",
   "execution_count": 1,
   "id": "c1ffc6e8-f9d5-4ec6-ba29-57c68c99e615",
   "metadata": {},
   "outputs": [
    {
     "data": {
      "text/plain": [
       "'\\nThe open() function is used to open a file in Python.\\n\\nDifferent modes of opening a file:\\n\\n\"r\" - Read mode: Opens the file for reading. File pointer is placed at the beginning of the file.\\n\"w\" - Write mode: Opens the file for writing. If the file exists, it truncates the file to zero length. If the file doesn\\'t exist, it creates a new file for writing.\\n\"a\" - Append mode: Opens the file for writing, but appends to the end of the file if it exists. If the file doesn\\'t exist, it creates a new file for writing.\\n\"rb\", \"wb\", \"ab\" - Binary modes: Similar to their respective modes above but used for handling binary files.\\n\"r+\" - Read/write mode: Opens the file for both reading and writing. The file pointer is placed at the beginning of the file.\\n\"w+\" - Write/read mode: Opens the file for reading and writing. If the file exists, it truncates the file to zero length. If the file doesn\\'t exist, it creates a new file for reading and writing.\\n\"a+\" - Append/read mode: Opens the file for reading and writing, but appends to the end of the file if it exists. If the file doesn\\'t exist, it creates a new file for reading and writing.\\n'"
      ]
     },
     "execution_count": 1,
     "metadata": {},
     "output_type": "execute_result"
    }
   ],
   "source": [
    "# question 1 :\n",
    "'''\n",
    "The open() function is used to open a file in Python.\n",
    "\n",
    "Different modes of opening a file:\n",
    "\n",
    "\"r\" - Read mode: Opens the file for reading. File pointer is placed at the beginning of the file.\n",
    "\"w\" - Write mode: Opens the file for writing. If the file exists, it truncates the file to zero length. If the file doesn't exist, it creates a new file for writing.\n",
    "\"a\" - Append mode: Opens the file for writing, but appends to the end of the file if it exists. If the file doesn't exist, it creates a new file for writing.\n",
    "\"rb\", \"wb\", \"ab\" - Binary modes: Similar to their respective modes above but used for handling binary files.\n",
    "\"r+\" - Read/write mode: Opens the file for both reading and writing. The file pointer is placed at the beginning of the file.\n",
    "\"w+\" - Write/read mode: Opens the file for reading and writing. If the file exists, it truncates the file to zero length. If the file doesn't exist, it creates a new file for reading and writing.\n",
    "\"a+\" - Append/read mode: Opens the file for reading and writing, but appends to the end of the file if it exists. If the file doesn't exist, it creates a new file for reading and writing.\n",
    "'''"
   ]
  },
  {
   "cell_type": "code",
   "execution_count": null,
   "id": "544cd224-e260-41cf-bff9-d03251352043",
   "metadata": {},
   "outputs": [],
   "source": [
    "#question 2 :\n",
    "The close() function in Python is used to close an open file. It's important because it releases resources, ensures data integrity, allows other processes to access the file, and improves performance."
   ]
  },
  {
   "cell_type": "code",
   "execution_count": 2,
   "id": "3c4c7a78-9d5c-49e7-b975-d51cf1d50d15",
   "metadata": {},
   "outputs": [
    {
     "name": "stdout",
     "output_type": "stream",
     "text": [
      "I want to become a Data Scientist\n"
     ]
    }
   ],
   "source": [
    "# question 3 :\n",
    "with open('data.txt', 'w') as file:\n",
    "    file.write('I want to become a Data Scientist')\n",
    "\n",
    "with open('data.txt', 'r') as file:\n",
    "    content = file.read()\n",
    "    print(content)\n"
   ]
  },
  {
   "cell_type": "code",
   "execution_count": 35,
   "id": "aa77da4f-6bc8-41f5-8cc6-1a22b79f1834",
   "metadata": {},
   "outputs": [],
   "source": [
    "# question 4 :\n",
    "'''\n",
    "read(): Reads the entire content of the file as a single string.\n",
    "readline(): Reads a single line from the file and returns it as a string.\n",
    "readlines(): Reads all lines from the file and returns them as a list of strings, each representing a line.\n",
    "'''\n",
    "with open('data.txt','w') as d:\n",
    "    d.write(\"Lorem ipsum dolor sit amet, consectetur adipiscing elit. \\n\")\n",
    "    d.write(\"Sed pellentesque justo nec odio sagittis, vel mollis justo molestie.\\n\")"
   ]
  },
  {
   "cell_type": "code",
   "execution_count": 36,
   "id": "fafa0fd6-650e-4b78-8f71-d351f434bf31",
   "metadata": {},
   "outputs": [
    {
     "name": "stdout",
     "output_type": "stream",
     "text": [
      "read method is : \n",
      " Lorem ipsum dolor sit amet, consectetur adipiscing elit. \n",
      "Sed pellentesque justo nec odio sagittis, vel mollis justo molestie.\n",
      "\n",
      "readline method is : \n",
      " Lorem ipsum dolor sit amet, consectetur adipiscing elit. \n",
      "\n",
      "readlines method is :\n",
      "Lorem ipsum dolor sit amet, consectetur adipiscing elit. \n",
      "\n",
      "Sed pellentesque justo nec odio sagittis, vel mollis justo molestie.\n",
      "\n"
     ]
    }
   ],
   "source": [
    "with open('data.txt','r') as d:\n",
    "    print(\"read method is : \\n\",d.read())\n",
    "    d.seek(0)\n",
    "    line = d.readline()\n",
    "    print(\"readline method is : \\n\",line)\n",
    "    d.seek(0)\n",
    "    lines = d.readlines()\n",
    "    print(\"readlines method is :\")\n",
    "    for i in lines:\n",
    "        print(i)"
   ]
  },
  {
   "cell_type": "code",
   "execution_count": 37,
   "id": "efb8f1b7-519b-450f-965a-ea1ec94ebd8f",
   "metadata": {},
   "outputs": [
    {
     "data": {
      "text/plain": [
       "'\\nUsing with statement with open() ensures automatic closing of the file after its block of code execution, providing:\\n\\nAutomatic resource management.\\nCleaner code without manual file handling.\\nBuilt-in exception handling.\\nConvenience in file I/O operations.\\n'"
      ]
     },
     "execution_count": 37,
     "metadata": {},
     "output_type": "execute_result"
    }
   ],
   "source": [
    "# question 5 : \n",
    "'''\n",
    "Using with statement with open() ensures automatic closing of the file after its block of code execution, providing:\n",
    "\n",
    "Automatic resource management.\n",
    "Cleaner code without manual file handling.\n",
    "Built-in exception handling.\n",
    "Convenience in file I/O operations.\n",
    "'''"
   ]
  },
  {
   "cell_type": "code",
   "execution_count": 44,
   "id": "ead23396-0720-4d7d-adf6-012e8bc24c50",
   "metadata": {},
   "outputs": [],
   "source": [
    "# question 6 :\n",
    "'''\n",
    "write() function:\n",
    "Writes a string to a file.\n",
    "Creates a new file or overwrites existing content.\n",
    "'''\n",
    "with open('data.txt','w') as d:\n",
    "    d.write(\"Hello, world!\")\n",
    "'''\n",
    "writelines() function:\n",
    "Writes a list of strings to a file.\n",
    "Does not automatically add newline characters.\n",
    "'''\n",
    "with open('data.txt','w') as d:\n",
    "    d.writelines([\"Line 1\\n\", \"Line 2\\n\"])"
   ]
  },
  {
   "cell_type": "code",
   "execution_count": null,
   "id": "3c6cf559-4558-485a-8843-c4f6c3cc842f",
   "metadata": {},
   "outputs": [],
   "source": []
  }
 ],
 "metadata": {
  "kernelspec": {
   "display_name": "Python 3 (ipykernel)",
   "language": "python",
   "name": "python3"
  },
  "language_info": {
   "codemirror_mode": {
    "name": "ipython",
    "version": 3
   },
   "file_extension": ".py",
   "mimetype": "text/x-python",
   "name": "python",
   "nbconvert_exporter": "python",
   "pygments_lexer": "ipython3",
   "version": "3.10.8"
  }
 },
 "nbformat": 4,
 "nbformat_minor": 5
}
