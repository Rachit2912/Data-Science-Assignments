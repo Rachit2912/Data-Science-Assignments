{
 "cells": [
  {
   "cell_type": "code",
   "execution_count": 14,
   "metadata": {},
   "outputs": [
    {
     "data": {
      "text/plain": [
       "\"\\n# head() – Displays the first 5 rows of the DataFrame:\\ndf.head()\\n# describe() – Provides summary statistics:\\ndf.describe()\\n# info() – Displays information about DataFrame (e.g., data types):\\ndf.info()\\n# dropna() – Removes missing values:\\ndf.dropna()\\n# sort_values() – Sorts the DataFrame by column:\\ndf.sort_values(by='A')\\n\""
      ]
     },
     "execution_count": 14,
     "metadata": {},
     "output_type": "execute_result"
    }
   ],
   "source": [
    "import pandas as pd \n",
    "#1 :\n",
    "'''\n",
    "# head() – Displays the first 5 rows of the DataFrame:\n",
    "df.head()\n",
    "# describe() – Provides summary statistics:\n",
    "df.describe()\n",
    "# info() – Displays information about DataFrame (e.g., data types):\n",
    "df.info()\n",
    "# dropna() – Removes missing values:\n",
    "df.dropna()\n",
    "# sort_values() – Sorts the DataFrame by column:\n",
    "df.sort_values(by='A')\n",
    "'''"
   ]
  },
  {
   "cell_type": "code",
   "execution_count": 3,
   "metadata": {},
   "outputs": [],
   "source": [
    "#2 :\n",
    "#df.index = range(1, 2 * len(df) + 1, 2)"
   ]
  },
  {
   "cell_type": "code",
   "execution_count": 4,
   "metadata": {},
   "outputs": [],
   "source": [
    "#3:\n",
    "# def sum_first_three(df):\n",
    "    # print(df['Values'].iloc[:3].sum())"
   ]
  },
  {
   "cell_type": "code",
   "execution_count": 6,
   "metadata": {},
   "outputs": [],
   "source": [
    "#4:\n",
    "# df['Word_Count'] = df['Text'].apply(lambda x: len(x.split()))"
   ]
  },
  {
   "cell_type": "code",
   "execution_count": 8,
   "metadata": {},
   "outputs": [],
   "source": [
    "#5:\n",
    "# size: Total number of elements (rows × columns).\n",
    "# shape: Tuple showing the number of rows and columns."
   ]
  },
  {
   "cell_type": "code",
   "execution_count": 9,
   "metadata": {},
   "outputs": [],
   "source": [
    "#6:\n",
    "# pd.read_excel('file.xlsx')"
   ]
  },
  {
   "cell_type": "code",
   "execution_count": 10,
   "metadata": {},
   "outputs": [],
   "source": [
    "#7:\n",
    "# df['Username'] = df['Email'].apply(lambda x: x.split('@')[0])"
   ]
  },
  {
   "cell_type": "code",
   "execution_count": 11,
   "metadata": {},
   "outputs": [],
   "source": [
    "#8:\n",
    "# def select_rows(df):\n",
    "    # return df[(df['A'] > 5) & (df['B'] < 10)]"
   ]
  },
  {
   "cell_type": "code",
   "execution_count": 12,
   "metadata": {},
   "outputs": [],
   "source": [
    "#9:\n",
    "# def stats(df):\n",
    "    # return df['Values'].agg(['mean', 'median', 'std'])\n",
    "# "
   ]
  },
  {
   "cell_type": "code",
   "execution_count": 13,
   "metadata": {},
   "outputs": [],
   "source": [
    "#10:\n",
    "# df['MovingAverage'] = df['Sales'].rolling(window=7).mean()"
   ]
  },
  {
   "cell_type": "code",
   "execution_count": 15,
   "metadata": {},
   "outputs": [],
   "source": [
    "#11:\n",
    "# df['Weekday'] = pd.to_datetime(df['Date']).dt.day_name()"
   ]
  },
  {
   "cell_type": "code",
   "execution_count": 16,
   "metadata": {},
   "outputs": [],
   "source": [
    "#12:\n",
    "# df_filtered = df[(df['Date'] >= '2023-01-01') & (df['Date'] <= '2023-01-31')]"
   ]
  },
  {
   "cell_type": "code",
   "execution_count": 17,
   "metadata": {},
   "outputs": [],
   "source": [
    "#13:\n",
    "# import pandas as pd "
   ]
  }
 ],
 "metadata": {
  "kernelspec": {
   "display_name": "Python 3",
   "language": "python",
   "name": "python3"
  },
  "language_info": {
   "codemirror_mode": {
    "name": "ipython",
    "version": 3
   },
   "file_extension": ".py",
   "mimetype": "text/x-python",
   "name": "python",
   "nbconvert_exporter": "python",
   "pygments_lexer": "ipython3",
   "version": "3.10.11"
  }
 },
 "nbformat": 4,
 "nbformat_minor": 2
}
